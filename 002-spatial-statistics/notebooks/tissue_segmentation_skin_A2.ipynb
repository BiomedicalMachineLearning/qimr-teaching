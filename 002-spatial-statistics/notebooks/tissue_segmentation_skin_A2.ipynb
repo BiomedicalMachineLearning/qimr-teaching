{
 "cells": [
  {
   "cell_type": "markdown",
   "id": "26fc5da5-9af3-4261-98bd-a5f26a03ab58",
   "metadata": {},
   "source": [
    "# Tissue Segmentation with Voyager\n",
    "\n",
    "Based on the following tutorials:\n",
    "* https://pachterlab.github.io/voyager/articles/visium_10x.html\n",
    "* https://pachterlab.github.io/voyager/articles/vig1_visium_basic.html\n",
    "* https://pachterlab.github.io/voyager/articles/vig2_visium.html\n",
    "* https://pachterlab.github.io/voyager/articles/visium_10x_spatial.html\n",
    "* https://pachterlab.github.io/voyager/articles/multispati.html"
   ]
  },
  {
   "cell_type": "code",
   "execution_count": null,
   "id": "85728bb3-b77b-4708-ad66-99e84c0050fc",
   "metadata": {},
   "outputs": [],
   "source": [
    "library(dplyr)\n",
    "library(Voyager)\n",
    "library(SpatialExperiment)\n",
    "library(SpatialFeatureExperiment)\n",
    "library(SingleCellExperiment)\n",
    "library(ggplot2)\n",
    "library(scater)\n",
    "library(rlang)\n",
    "library(scran)\n",
    "library(scuttle)\n",
    "library(terra)\n",
    "library(sf)\n",
    "library(rmapshaper)\n",
    "library(scran)\n",
    "library(stringr)\n",
    "library(EBImage)\n",
    "library(patchwork)\n",
    "library(bluster)\n",
    "library(rjson)\n",
    "theme_set(theme_bw())"
   ]
  },
  {
   "cell_type": "code",
   "execution_count": null,
   "id": "6f9bcea4-3034-4afe-9ba8-8766ed00bb6b",
   "metadata": {},
   "outputs": [],
   "source": [
    "# Layout\n",
    "custom_theme <- function() {\n",
    "  theme_bw() +\n",
    "    theme(\n",
    "      legend.text = element_text(size = 14),\n",
    "      legend.title = element_text(size = 16, face = \"bold\"),\n",
    "      axis.text = element_text(size = 12),\n",
    "      axis.title = element_text(size = 14, face = \"bold\"),\n",
    "      legend.position = \"right\",\n",
    "      legend.box.just = \"right\"\n",
    "    )\n",
    "}\n",
    "options(repr.plot.width = 10, repr.plot.height = 8)"
   ]
  },
  {
   "cell_type": "code",
   "execution_count": null,
   "id": "f02e0f40-9dc8-487a-bc65-b9ed5492c3b0",
   "metadata": {},
   "outputs": [],
   "source": [
    "data_dir <- R.utils::getAbsolutePath('../../data')\n",
    "input_dir <- glue::glue(\"{data_dir}/Visium_Skin_A2/outs\")"
   ]
  },
  {
   "cell_type": "markdown",
   "id": "6a0cea76-4bc2-4a2f-a0f5-fae500398d1d",
   "metadata": {},
   "source": [
    "## Visium Files"
   ]
  },
  {
   "cell_type": "markdown",
   "id": "cecc8b56-620c-405f-9ab5-7b823cb60d27",
   "metadata": {},
   "source": [
    "### Scale Factors\n",
    "\n",
    "The scalefactors_json.json file contains image metadata:\n",
    "* **tissue_hires_scalef** and **tissue_lowres_scalef** are the ratio of the size of the high resolution (but not full resolution) and low resolution H&E image to the full resolution image.\n",
    "* **fiducial_diameter_fullres** is the diameter of each fiducial spot used to align the spots to the H&E image in pixels in the full resolution image.\n",
    "* **spot_diameter_fullres** is the diameter of each Visium spot in the full resolution H&E image in pixels. "
   ]
  },
  {
   "cell_type": "code",
   "execution_count": null,
   "id": "0d53b1b3-724d-42bb-b1cb-7b8f16d14ffd",
   "metadata": {},
   "outputs": [],
   "source": [
    "scale_factors <- fromJSON(file = glue::glue(\"{input_dir}/spatial/scalefactors_json.json\"))\n",
    "scale_factors"
   ]
  },
  {
   "cell_type": "markdown",
   "id": "3c303462-77e9-451d-a141-de7f95d454d3",
   "metadata": {},
   "source": [
    "### Tissue Metadata\n",
    "\n",
    "The tissue_positions_list.csv file contains information about each spot/barcode:\n",
    "* **in_tissue** indicates whether each spot is in tissue (in_tissue, 1 means yes and 0 means no) as automatically detected by \n",
    "Space Ranger or manually annotated in the Loupe browser.\n",
    "* **array_row** and **array_col** are the coordinates on the matrix of spots,\n",
    "* **pxl_row_in_fullres** and **pxl_col_in_fullres** are the coordinates of the spots in the full resolution \n",
    "image."
   ]
  },
  {
   "cell_type": "code",
   "execution_count": null,
   "id": "1be78611-04cc-4e8a-8397-a533dce348cd",
   "metadata": {},
   "outputs": [],
   "source": [
    "head(read.csv(glue::glue(\"{input_dir}/spatial/tissue_positions.csv\")))"
   ]
  },
  {
   "cell_type": "markdown",
   "id": "08f10a42-0b7f-4b89-a75b-1deca18d38b3",
   "metadata": {},
   "source": [
    "## Read Visium Data"
   ]
  },
  {
   "cell_type": "code",
   "execution_count": null,
   "id": "53093fcf-70dd-45ba-a7cc-c8ccf8e59bff",
   "metadata": {},
   "outputs": [],
   "source": [
    "raw_sfe <- SpatialFeatureExperiment::read10xVisiumSFE(dirs = input_dir, samples = \".\", type = \"sparse\", data = \"raw\")"
   ]
  },
  {
   "cell_type": "code",
   "execution_count": null,
   "id": "81f13b26-74fa-4728-b651-db69c3b46be9",
   "metadata": {},
   "outputs": [],
   "source": [
    "Voyager::plotImage(raw_sfe)"
   ]
  },
  {
   "cell_type": "markdown",
   "id": "979cabb8-356e-48c1-b7fa-7c55a3673ebf",
   "metadata": {},
   "source": [
    "## Read Hi-res Image"
   ]
  },
  {
   "cell_type": "code",
   "execution_count": null,
   "id": "ad9b6f2e-d4be-4029-a572-8115b3e36a47",
   "metadata": {},
   "outputs": [],
   "source": [
    "img <- readImage(glue::glue(\"{input_dir}/spatial/tissue_hires_image.png\"))\n",
    "EBImage::display(img)"
   ]
  },
  {
   "cell_type": "code",
   "execution_count": null,
   "id": "73b68311-67bd-4ff0-b803-120845107b69",
   "metadata": {},
   "outputs": [],
   "source": [
    "img2 <- img\n",
    "EBImage::colorMode(img2) <- EBImage::Grayscale\n",
    "EBImage::display(img2, all = TRUE)\n",
    "(EBImage::hist(img) + custom_theme())"
   ]
  },
  {
   "cell_type": "code",
   "execution_count": null,
   "id": "d4062437-808a-4010-bbae-31c1fa285331",
   "metadata": {},
   "outputs": [],
   "source": [
    "mask <- img2[,,3] < 0.90\n",
    "kern <- EBImage::makeBrush(3, shape='disc')\n",
    "mask_open <- EBImage::opening(mask, kern)\n",
    "mask_close <- EBImage::closing(mask_open, kern)\n",
    "EBImage::display(mask_open)"
   ]
  },
  {
   "cell_type": "code",
   "execution_count": null,
   "id": "afd11a35-45fe-4d4d-a9f8-8a809ff3f795",
   "metadata": {},
   "outputs": [],
   "source": [
    "mask_label <- EBImage::bwlabel(mask_close)\n",
    "fts <- EBImage::computeFeatures.shape(mask_label)\n",
    "max_ind <- terra::which.max(fts[,\"s.area\"])\n",
    "inds <- which(as.array(mask_label) == max_ind, arr.ind = TRUE)\n",
    "row_inds <- c(seq_len(min(inds[,1])-1), seq(max(inds[,1])+1, nrow(mask_label), by = 1))\n",
    "col_inds <- c(seq_len(min(inds[,2])-1), seq(max(inds[,2])+1, nrow(mask_label), by = 1))\n",
    "# mask_label[row_inds, ] <- 0\n",
    "# mask_label[,col_inds] <- 0\n",
    "fts2 <- fts[unique(as.vector(mask_label))[-1],]\n",
    "fts2 <- fts2[order(fts2[,\"s.area\"], decreasing = TRUE),]\n",
    "mask_label[mask_label %in% c(797, as.numeric(rownames(fts2)[fts2[,1] < 100]))] <- 0\n",
    "mask_label <- EBImage::fillHull(mask_label)\n",
    "EBImage::display(mask_label)"
   ]
  },
  {
   "cell_type": "code",
   "execution_count": null,
   "id": "2229cc97-37ed-48a6-aacd-f63eef0c1e3f",
   "metadata": {},
   "outputs": [],
   "source": [
    "plot(fts2[,1][-1], type = \"l\", ylab = \"Area\")"
   ]
  },
  {
   "cell_type": "code",
   "execution_count": null,
   "id": "e8551aeb-682e-497d-b1ad-3e4dd7400b44",
   "metadata": {},
   "outputs": [],
   "source": [
    "head(fts2, 10)"
   ]
  },
  {
   "cell_type": "code",
   "execution_count": null,
   "id": "36dd1edb-fb6b-45bb-b607-9dfda0a6eaed",
   "metadata": {},
   "outputs": [],
   "source": [
    "mask_label[mask_label %in% c(797, as.numeric(rownames(fts2)[fts2[,1] < 100]))] <- 0"
   ]
  },
  {
   "cell_type": "code",
   "execution_count": null,
   "id": "798f2598-4f37-4112-b0d1-9e804a8f6476",
   "metadata": {},
   "outputs": [],
   "source": [
    "display(paintObjects(mask_label, img, col=c(\"red\", \"yellow\"), opac=c(1, 0.3)))"
   ]
  },
  {
   "cell_type": "code",
   "execution_count": null,
   "id": "ef334540-a15a-42b3-8a54-f80be76eae76",
   "metadata": {},
   "outputs": [],
   "source": [
    "raster2polygon <- function(seg, keep = 0.2) {\n",
    "    seg <- flip(seg)\n",
    "    r <- terra::rast(as.array(seg), extent = ext(0, nrow(seg), 0, ncol(seg))) |> trans()\n",
    "    r[r < 1] <- NA\n",
    "    contours <- st_as_sf(as.polygons(r, dissolve = TRUE))\n",
    "    simplified <- ms_simplify(contours, keep = keep)\n",
    "    return(list(full = contours, simplified = simplified))\n",
    "}"
   ]
  },
  {
   "cell_type": "code",
   "execution_count": null,
   "id": "4bf6bcde-fd4a-42b3-9bf1-949f0dcb5fc2",
   "metadata": {},
   "outputs": [],
   "source": [
    "tb <- raster2polygon(mask_label)\n",
    "tb"
   ]
  },
  {
   "cell_type": "code",
   "execution_count": null,
   "id": "e0f92097-9468-4ab3-b773-bf10409d1483",
   "metadata": {},
   "outputs": [],
   "source": [
    "scale_factors <- fromJSON(file = glue::glue(\"{input_dir}/spatial/scalefactors_json.json\"))\n",
    "tb$simplified$geometry <- tb$simplified$geometry / scale_factors$tissue_hires_scalef"
   ]
  },
  {
   "cell_type": "code",
   "execution_count": null,
   "id": "ed9f1f0c-7778-416a-89d2-e32244ec6165",
   "metadata": {},
   "outputs": [],
   "source": [
    "Voyager::plotImage(raw_sfe)"
   ]
  },
  {
   "cell_type": "code",
   "execution_count": null,
   "id": "7769ede3-cba9-4997-9634-e94e9d8fd1f3",
   "metadata": {},
   "outputs": [],
   "source": [
    "is_mt <- str_detect(rowData(raw_sfe)$symbol, \"^MT-\")\n",
    "sum(is_mt)"
   ]
  },
  {
   "cell_type": "code",
   "execution_count": null,
   "id": "f6241969-639b-4f7d-bdd9-953f91d06b79",
   "metadata": {},
   "outputs": [],
   "source": [
    "segmented_sfe <- scuttle::addPerCellQCMetrics(raw_sfe, subsets = list(mito = is_mt))\n",
    "colData(segmented_sfe)$nCounts <- colSums(counts(segmented_sfe))"
   ]
  },
  {
   "cell_type": "code",
   "execution_count": null,
   "id": "9dfb9d57-78da-4c55-84f9-e18f67d6736f",
   "metadata": {},
   "outputs": [],
   "source": [
    "SpatialFeatureExperiment::tissueBoundary(segmented_sfe) <- tb$simplified"
   ]
  },
  {
   "cell_type": "code",
   "execution_count": null,
   "id": "eb39bc7e-3749-4a5c-a822-b2b890a74005",
   "metadata": {},
   "outputs": [],
   "source": [
    "Voyager::plotSpatialFeature(segmented_sfe, \"sum\", annotGeometryName = \"tissueBoundary\", \n",
    "                   annot_fixed = list(fill = NA, color = \"black\"),\n",
    "                   image_id = \"lowres\") + custom_theme()"
   ]
  },
  {
   "cell_type": "code",
   "execution_count": null,
   "id": "b4d1e0e0-e0ab-4d10-acbb-dae69b2d65a4",
   "metadata": {},
   "outputs": [],
   "source": [
    "segmented_sfe <- SpatialFeatureExperiment::transpose(segmented_sfe)"
   ]
  },
  {
   "cell_type": "code",
   "execution_count": null,
   "id": "dd912ef4-8c83-4912-bf00-e7d637c15fc2",
   "metadata": {},
   "outputs": [],
   "source": [
    "Voyager::plotSpatialFeature(segmented_sfe, \"sum\", annotGeometryName = \"tissueBoundary\", \n",
    "                   annot_fixed = list(fill = NA, color = \"black\"),\n",
    "                   image_id = \"lowres\")"
   ]
  },
  {
   "cell_type": "code",
   "execution_count": null,
   "id": "1a9eef32-fe48-4fd3-aa9f-53b94ad8c75c",
   "metadata": {},
   "outputs": [],
   "source": [
    "segmented_sfe$int_tissue <- SpatialFeatureExperiment::annotPred(segmented_sfe, colGeometryName = \"spotPoly\", \n",
    "                            annotGeometryName = \"tissueBoundary\",\n",
    "                            pred = st_intersects)\n",
    "segmented_sfe$cov_tissue <- SpatialFeatureExperiment::annotPred(segmented_sfe, colGeometryName = \"spotPoly\", \n",
    "                            annotGeometryName = \"tissueBoundary\",\n",
    "                            pred = st_covered_by)"
   ]
  },
  {
   "cell_type": "code",
   "execution_count": null,
   "id": "fd583865-8f0a-465a-95cf-14b27e874549",
   "metadata": {},
   "outputs": [],
   "source": [
    "segmented_sfe$diff_sr <- \n",
    "    dplyr::case_when(\n",
    "        segmented_sfe$in_tissue == segmented_sfe$int_tissue ~ \"same\",\n",
    "        segmented_sfe$in_tissue & !segmented_sfe$int_tissue ~ \"Space Ranger\",\n",
    "        segmented_sfe$int_tissue & !segmented_sfe$in_tissue ~ \"segmentation\"\n",
    "    ) |> \n",
    "    factor(levels = c(\"Space Ranger\", \"same\", \"segmentation\"))\n",
    "Voyager::plotSpatialFeature(\n",
    "    segmented_sfe, \"diff_sr\", \n",
    "    annotGeometryName = \"tissueBoundary\", \n",
    "    annot_fixed = list(fill = NA, size = 0.5, color = \"black\")) +\n",
    "    scale_fill_brewer(type = \"div\", palette = 4) + custom_theme()"
   ]
  },
  {
   "cell_type": "code",
   "execution_count": null,
   "id": "db32c79e-6d03-41d1-9d7c-bc7676de07d0",
   "metadata": {},
   "outputs": [],
   "source": [
    "segmented_sfe$diff_int_cov <- segmented_sfe$int_tissue != segmented_sfe$cov_tissue\n",
    "Voyager::plotSpatialFeature(\n",
    "    segmented_sfe, \n",
    "    \"diff_int_cov\", \n",
    "    annotGeometryName = \"tissueBoundary\", \n",
    "    annot_fixed = list(fill = NA, size = 0.5, color = \"black\")) + custom_theme()"
   ]
  },
  {
   "cell_type": "code",
   "execution_count": null,
   "id": "a0c3b7c3-ef40-4a17-b0b2-4b2dda24f565",
   "metadata": {},
   "outputs": [],
   "source": [
    "# colData(sfe)$nCounts <- colSums(counts(sfe))\n",
    "violin <- plotColData(segmented_sfe, \"sum\", x = \"in_tissue\", colour_by = \"in_tissue\") +\n",
    "    theme(legend.position = \"top\")\n",
    "spatial <- plotSpatialFeature(segmented_sfe, \"sum\", colGeometryName = \"spotPoly\",\n",
    "                              annotGeometryName = \"tissueBoundary\", \n",
    "                              image = \"lowres\", maxcell = 5e4,\n",
    "                              annot_fixed = list(fill = NA, color = \"black\")) +\n",
    "    custom_theme()\n",
    "violin + spatial"
   ]
  },
  {
   "cell_type": "code",
   "execution_count": null,
   "id": "a360a37d-e48c-4b5c-b397-ee9ce99bbb73",
   "metadata": {},
   "outputs": [],
   "source": [
    "spot_ints <- annotOp(segmented_sfe, colGeometryName = \"spotPoly\", annotGeometryName = \"tissueBoundary\", op = st_intersection)\n",
    "segmented_sfe$pct_tissue <- st_area(spot_ints) / st_area(spotPoly(segmented_sfe)) * 100\n",
    "sfe_tissue <- segmented_sfe[, segmented_sfe$int_tissue]\n",
    "scater::plotColData(sfe_tissue, x = \"pct_tissue\", y = \"sum\", color_by = \"diff_int_cov\") + custom_theme()"
   ]
  },
  {
   "cell_type": "code",
   "execution_count": null,
   "id": "0a79c60d-8fbe-4337-8752-715b0cc3fd62",
   "metadata": {},
   "outputs": [],
   "source": [
    "data_dir <- R.utils::getAbsolutePath('../../data')\n",
    "saveRDS(segmented_sfe, glue::glue(\"{data_dir}/Visium_Skin_A2.rds\"))"
   ]
  }
 ],
 "metadata": {
  "kernelspec": {
   "display_name": "R",
   "language": "R",
   "name": "ir"
  },
  "language_info": {
   "codemirror_mode": "r",
   "file_extension": ".r",
   "mimetype": "text/x-r-source",
   "name": "R",
   "pygments_lexer": "r",
   "version": "4.3.3"
  }
 },
 "nbformat": 4,
 "nbformat_minor": 5
}
