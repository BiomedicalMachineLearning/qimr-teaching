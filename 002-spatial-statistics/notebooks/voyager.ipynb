{
 "cells": [
  {
   "cell_type": "markdown",
   "id": "d158477d-75e0-497a-aead-01eb69f2647f",
   "metadata": {},
   "source": [
    "# Spatial Statistics with Voyager\n",
    "\n",
    "Based on the following tutorials:\n",
    "* https://pachterlab.github.io/voyager/articles/visium_10x.html\n",
    "* https://pachterlab.github.io/voyager/articles/vig1_visium_basic.html\n",
    "* https://pachterlab.github.io/voyager/articles/vig2_visium.html\n",
    "* https://pachterlab.github.io/voyager/articles/visium_10x_spatial.html\n",
    "* https://pachterlab.github.io/voyager/articles/multispati.html"
   ]
  },
  {
   "cell_type": "code",
   "execution_count": null,
   "id": "85728bb3-b77b-4708-ad66-99e84c0050fc",
   "metadata": {},
   "outputs": [],
   "source": [
    "library(dplyr)\n",
    "library(Voyager)\n",
    "library(SpatialExperiment)\n",
    "library(SpatialFeatureExperiment)\n",
    "library(SingleCellExperiment)\n",
    "library(ggplot2)\n",
    "library(scater)\n",
    "library(rlang)\n",
    "library(scran)\n",
    "library(scuttle)\n",
    "library(terra)\n",
    "library(sf)\n",
    "library(rmapshaper)\n",
    "library(scran)\n",
    "library(stringr)\n",
    "library(EBImage)\n",
    "library(patchwork)\n",
    "library(bluster)\n",
    "library(rjson)\n",
    "theme_set(theme_bw())"
   ]
  },
  {
   "cell_type": "code",
   "execution_count": null,
   "id": "6f9bcea4-3034-4afe-9ba8-8766ed00bb6b",
   "metadata": {},
   "outputs": [],
   "source": [
    "# Layout\n",
    "custom_theme <- function() {\n",
    "  theme_bw() +\n",
    "    theme(\n",
    "      legend.text = element_text(size = 14),\n",
    "      legend.title = element_text(size = 16, face = \"bold\"),\n",
    "      axis.text = element_text(size = 12),\n",
    "      axis.title = element_text(size = 14, face = \"bold\"),\n",
    "      legend.position = \"right\",\n",
    "      legend.box.just = \"right\"\n",
    "    )\n",
    "}\n",
    "options(repr.plot.width = 20, repr.plot.height = 16)"
   ]
  },
  {
   "cell_type": "code",
   "execution_count": null,
   "id": "f02e0f40-9dc8-487a-bc65-b9ed5492c3b0",
   "metadata": {},
   "outputs": [],
   "source": [
    "data_dir <- R.utils::getAbsolutePath('../../data')\n",
    "mouse_dir <- glue::glue(\"{data_dir}/Visium_Mouse_Olfactory_Bulb/outs\")"
   ]
  },
  {
   "cell_type": "markdown",
   "id": "6a0cea76-4bc2-4a2f-a0f5-fae500398d1d",
   "metadata": {},
   "source": [
    "## Visium Files"
   ]
  },
  {
   "cell_type": "markdown",
   "id": "3dea9d69-fe11-4f61-b01c-b34a9d997ddd",
   "metadata": {},
   "source": [
    "### Scale Factors\n",
    "\n",
    "The scalefactors_json.json file contains image metadata:\n",
    "* **tissue_hires_scalef** and **tissue_lowres_scalef** are the ratio of the size of the high resolution (but not full resolution) and low resolution H&E image to the full resolution image.\n",
    "* **fiducial_diameter_fullres** is the diameter of each fiducial spot used to align the spots to the H&E image in pixels in the full resolution image.\n",
    "* **spot_diameter_fullres** is the diameter of each Visium spot in the full resolution H&E image in pixels. "
   ]
  },
  {
   "cell_type": "code",
   "execution_count": null,
   "id": "0d53b1b3-724d-42bb-b1cb-7b8f16d14ffd",
   "metadata": {},
   "outputs": [],
   "source": [
    "fromJSON(file = glue::glue(\"{mouse_dir}/spatial/scalefactors_json.json\"))"
   ]
  },
  {
   "cell_type": "markdown",
   "id": "6b46a360-b7aa-4892-a7bb-8ee3eeb3a18f",
   "metadata": {},
   "source": [
    "### Tissue Metadata\n",
    "\n",
    "The tissue_positions_list.csv file contains information about each spot/barcode:\n",
    "* **in_tissue** indicates whether each spot is in tissue (in_tissue, 1 means yes and 0 means no) as automatically detected by \n",
    "Space Ranger or manually annotated in the Loupe browser.\n",
    "* **array_row** and **array_col** are the coordinates on the matrix of spots,\n",
    "* **pxl_row_in_fullres** and **pxl_col_in_fullres** are the coordinates of the spots in the full resolution \n",
    "image."
   ]
  },
  {
   "cell_type": "code",
   "execution_count": null,
   "id": "1be78611-04cc-4e8a-8397-a533dce348cd",
   "metadata": {},
   "outputs": [],
   "source": [
    "head(read.csv(glue::glue(\"{mouse_dir}/spatial/tissue_positions.csv\")))"
   ]
  },
  {
   "cell_type": "markdown",
   "id": "e4b16c43-e3fa-4273-ab26-5e4c77901b00",
   "metadata": {},
   "source": [
    "# Read Visium Data"
   ]
  },
  {
   "cell_type": "code",
   "execution_count": null,
   "id": "42fc0db0-6bea-4ac8-93b9-ad7f6ec1c0ac",
   "metadata": {},
   "outputs": [],
   "source": [
    "#Original way to load Visium Data\n",
    "#raw_sfe <- SpatialFeatureExperiment::read10xVisiumSFE(dirs = mouse_dir, samples = \".\", type = \"sparse\", data = \"raw\")\n",
    "#Voyager::plotImage(raw_sfe)\n",
    "#transposed_raw_sfe <- SpatialFeatureExperiment::transpose(raw_sfe)"
   ]
  },
  {
   "cell_type": "code",
   "execution_count": null,
   "id": "2b5fdb7b-8ae4-48c1-9b3e-50487fd9916b",
   "metadata": {
    "is_executing": true
   },
   "outputs": [],
   "source": [
    "# Read pre-processed file\n",
    "raw_sfe <- readRDS(glue::glue(\"{data_dir}/Visium_Mouse_Olfactory_Bulb.rds\"))\n",
    "transposed_raw_sfe <- raw_sfe"
   ]
  },
  {
   "cell_type": "markdown",
   "id": "fcfa2b0c-ec69-4a45-ba21-0d6bac0f6d0b",
   "metadata": {},
   "source": [
    "# Perform QC"
   ]
  },
  {
   "cell_type": "code",
   "execution_count": null,
   "id": "c664a060-6f2c-49cd-95ab-b0da217546ef",
   "metadata": {},
   "outputs": [],
   "source": [
    "is_mt <- str_detect(rowData(transposed_raw_sfe)$symbol, \"^mt-\")\n",
    "sum(is_mt)\n",
    "colData(transposed_raw_sfe)$nGenes <- colSums(counts(transposed_raw_sfe) > 0)\n",
    "colData(transposed_raw_sfe)$nCounts <- colSums(counts(transposed_raw_sfe))\n",
    "qc_sfe <- scuttle::addPerCellQCMetrics(transposed_raw_sfe, subsets = list(mito = is_mt))\n",
    "# Normally MITO % is set to 20 - see what effect this has compared to 30.\n",
    "processed_sfe <- transposed_raw_sfe[, qc_sfe$subsets_mito_percent < 20]\n",
    "processed_sfe <- processed_sfe[rowSums(counts(processed_sfe)) > 0,]\n",
    "colData(processed_sfe)$nCounts <- colSums(counts(processed_sfe))"
   ]
  },
  {
   "cell_type": "code",
   "execution_count": null,
   "id": "578e6231-20e4-4fb3-9302-6970c64f734e",
   "metadata": {},
   "outputs": [],
   "source": [
    "p1 <- scater::plotColData(transposed_raw_sfe, \"sum\", x = \"in_tissue\", color_by = \"in_tissue\") + custom_theme()\n",
    "p2 <- scater::plotColData(transposed_raw_sfe, \"detected\", x = \"in_tissue\", color_by = \"in_tissue\") + custom_theme()\n",
    "p3 <- scater::plotColData(transposed_raw_sfe, \"subsets_mito_percent\", x = \"in_tissue\", color_by = \"in_tissue\") + custom_theme()\n",
    "plot <- (p1 + p2 + p3) + patchwork::plot_layout(ncol = 3, guides = \"collect\")\n",
    "show_plot(plot, \"qc_1.png\")"
   ]
  },
  {
   "cell_type": "code",
   "execution_count": null,
   "id": "6b280e37-24b2-476c-90a6-925a63b0ef07",
   "metadata": {},
   "outputs": [],
   "source": [
    "plot <- scater::plotColData(transposed_raw_sfe, x = \"sum\", y = \"subsets_mito_percent\", bins = 100) + custom_theme()\n",
    "show_plot(plot, \"qc_2.png\")"
   ]
  },
  {
   "cell_type": "code",
   "execution_count": null,
   "id": "aa308ef0-0309-4fcc-86fa-2f210d8ba4fb",
   "metadata": {},
   "outputs": [],
   "source": [
    "p1 <- scater::plotColData(processed_sfe, \"sum\", x = \"in_tissue\", color_by = \"in_tissue\") + custom_theme()\n",
    "p2 <- scater::plotColData(processed_sfe, \"detected\", x = \"in_tissue\", color_by = \"in_tissue\") + custom_theme()\n",
    "p3 <- scater::plotColData(processed_sfe, \"subsets_mito_percent\", x = \"in_tissue\", color_by = \"in_tissue\") + custom_theme()\n",
    "plot <- (p1 + p2 + p3) + patchwork::plot_layout(ncol = 3, guides = \"collect\")\n",
    "show_plot(plot, \"qc_3.png\")"
   ]
  },
  {
   "cell_type": "code",
   "execution_count": null,
   "id": "9772cc6a-4a96-4e5e-9a22-c8b86f1fe7c9",
   "metadata": {},
   "outputs": [],
   "source": [
    "plot <- scater::plotColData(processed_sfe, x = \"sum\", y = \"subsets_mito_percent\", bins = 100) + custom_theme()\n",
    "show_plot(plot, \"qc_4.png\")"
   ]
  },
  {
   "cell_type": "markdown",
   "id": "ee83a396-ac97-45e9-a175-1f438df0fae0",
   "metadata": {},
   "source": [
    "# Before and after QC by Percentage"
   ]
  },
  {
   "cell_type": "code",
   "execution_count": null,
   "id": "1d3343c8-4495-4754-963f-eee813cd50a0",
   "metadata": {},
   "outputs": [],
   "source": [
    "p1 <- Voyager::plotSpatialFeature(qc_sfe, c(\"sum\"), image_id = \"lowres\", maxcell = 5e4, ncol = 2) + custom_theme()\n",
    "p2 <- Voyager::plotSpatialFeature(qc_sfe, c(\"detected\"), image_id = \"lowres\", maxcell = 5e4, ncol = 2) + custom_theme()\n",
    "p3 <- Voyager::plotSpatialFeature(qc_sfe, c(\"subsets_mito_percent\"), image_id = \"lowres\", maxcell = 5e4, ncol = 2) + custom_theme()\n",
    "p4 <- Voyager::plotSpatialFeature(processed_sfe, c(\"sum\"), image_id = \"lowres\", maxcell = 5e4, ncol = 2) + custom_theme()\n",
    "p5 <- Voyager::plotSpatialFeature(processed_sfe, c(\"detected\"), image_id = \"lowres\", maxcell = 5e4, ncol = 2) + custom_theme()\n",
    "p6 <- Voyager::plotSpatialFeature(processed_sfe, c(\"subsets_mito_percent\"), image_id = \"lowres\", maxcell = 5e4, ncol = 2) + custom_theme()\n",
    "plot <- (p1 + p2 + p3 + p4 + p5 + p6) + patchwork::plot_layout(ncol = 2, guides = \"collect\")\n",
    "show_plot(plot, \"qc_5.png\", width = 1600, height = 800, res = 100)"
   ]
  },
  {
   "cell_type": "markdown",
   "id": "75ab86a8-83e9-44a7-aa49-e3c2f928a40e",
   "metadata": {},
   "source": [
    "# Plotting Metrics in Space\n",
    "\n",
    "## Counts Per Spot in and out of Tissue\n",
    "\n",
    "Plot the total unique molecular identifier (UMI) counts per spot."
   ]
  },
  {
   "cell_type": "code",
   "execution_count": null,
   "id": "34b2d002-c31c-40f0-9fc1-4e79858a075b",
   "metadata": {},
   "outputs": [],
   "source": [
    "violin <- plotColData(processed_sfe, \"nCounts\", x = \"in_tissue\", colour_by = \"in_tissue\") +\n",
    "    theme(legend.position = \"top\") + custom_theme()\n",
    "spatial <- plotSpatialFeature(processed_sfe, \"nCounts\", colGeometryName = \"spotPoly\",\n",
    "                              annotGeometryName = \"tissueBoundary\", \n",
    "                              image = \"lowres\", maxcell = 5e4,\n",
    "                              annot_fixed = list(fill = NA, color = \"black\")) + custom_theme()\n",
    "violin + spatial"
   ]
  },
  {
   "cell_type": "code",
   "execution_count": null,
   "id": "dfcc4f65-26ad-4336-aa8a-b1904c9f073c",
   "metadata": {},
   "outputs": [],
   "source": [
    "colData(processed_sfe)$nGenes <- colSums(counts(processed_sfe) > 0)"
   ]
  },
  {
   "cell_type": "code",
   "execution_count": null,
   "id": "bdc88e01-6126-4671-b6a1-154f7f4a3511",
   "metadata": {},
   "outputs": [],
   "source": [
    "violin <- scater::plotColData(processed_sfe, \"nGenes\", x = \"in_tissue\", colour_by = \"in_tissue\") +\n",
    "    theme(legend.position = \"top\") + custom_theme()\n",
    "spatial <- Voyager::plotSpatialFeature(processed_sfe, \"nGenes\", colGeometryName = \"spotPoly\",\n",
    "                              annotGeometryName = \"tissueBoundary\",\n",
    "                              image = \"lowres\", maxcell = 5e4,\n",
    "                              annot_fixed = list(fill = NA, color = \"black\")) + custom_theme()\n",
    "violin + spatial"
   ]
  },
  {
   "cell_type": "code",
   "execution_count": null,
   "id": "c9daa1c5-da65-4fd9-a39c-02920ecd34c5",
   "metadata": {},
   "outputs": [],
   "source": [
    "scater::plotColData(processed_sfe, x = \"nCounts\", y = \"nGenes\", colour_by = \"in_tissue\") + custom_theme()"
   ]
  },
  {
   "cell_type": "code",
   "execution_count": null,
   "id": "b5ecb952-ff0d-4d8d-9e96-b572c473d4cb",
   "metadata": {},
   "outputs": [],
   "source": [
    "mito_ind <- str_detect(rowData(processed_sfe)$symbol, \"^mt-\")\n",
    "colData(processed_sfe)$prop_mito <- colSums(counts(processed_sfe)[mito_ind,]) / colData(processed_sfe)$nCounts"
   ]
  },
  {
   "cell_type": "code",
   "execution_count": null,
   "id": "88e8e6df-8872-4137-9a84-56f5d4632c16",
   "metadata": {},
   "outputs": [],
   "source": [
    "violin <- scater::plotColData(processed_sfe, \"prop_mito\", x = \"in_tissue\", colour_by = \"in_tissue\") +\n",
    "    theme(legend.position = \"top\") + custom_theme()\n",
    "spatial <- Voyager::plotSpatialFeature(processed_sfe, \"prop_mito\", colGeometryName = \"spotPoly\",\n",
    "                              annotGeometryName = \"tissueBoundary\",\n",
    "                              image = \"lowres\", maxcell = 5e4,\n",
    "                              annot_fixed = list(fill = NA, color = \"black\")) + custom_theme()\n",
    "violin + spatial"
   ]
  },
  {
   "cell_type": "markdown",
   "id": "81af3782-aadc-46e8-b837-5a4a46c0c762",
   "metadata": {},
   "source": [
    "# Only use in_tissue spots"
   ]
  },
  {
   "cell_type": "code",
   "execution_count": null,
   "id": "0baad0b9-b753-4944-a042-bd2489167255",
   "metadata": {},
   "outputs": [],
   "source": [
    "sfe_tissue <- processed_sfe[, colData(processed_sfe)$in_tissue]\n",
    "sfe_tissue <- sfe_tissue[rowSums(counts(sfe_tissue)) > 0,]"
   ]
  },
  {
   "cell_type": "code",
   "execution_count": null,
   "id": "eb5b888f-40df-4a03-b87b-40c721581eab",
   "metadata": {},
   "outputs": [],
   "source": [
    "rowData(sfe_tissue)$means <- rowMeans(counts(sfe_tissue))\n",
    "rowData(sfe_tissue)$vars <- rowVars(counts(sfe_tissue))\n",
    "# Coefficient of variance\n",
    "rowData(sfe_tissue)$cv2 <- rowData(sfe_tissue)$vars/rowData(sfe_tissue)$means^2"
   ]
  },
  {
   "cell_type": "code",
   "execution_count": null,
   "id": "fd05c9df-93d5-4e4a-a340-5fe676f1a69c",
   "metadata": {},
   "outputs": [],
   "source": [
    "scater::plotRowData(sfe_tissue, x = \"means\", y = \"vars\", bins = 50) +\n",
    "    ggplot2::geom_abline(slope = 1, intercept = 0, color = \"red\") +\n",
    "    ggplot2::scale_x_log10() + ggplot2::scale_y_log10() +\n",
    "    ggplot2::scale_fill_distiller(palette = \"Blues\", direction = 1) +\n",
    "    ggplot2::annotation_logticks() +\n",
    "    ggplot2::coord_equal() + custom_theme()"
   ]
  },
  {
   "cell_type": "code",
   "execution_count": null,
   "id": "51605dca-2d76-4a47-a539-a031d5d4a201",
   "metadata": {},
   "outputs": [],
   "source": [
    "sfe_tissue <- scuttle::logNormCounts(sfe_tissue)"
   ]
  },
  {
   "cell_type": "code",
   "execution_count": null,
   "id": "9fbd5981-9098-4a10-bac3-d23b1ac12373",
   "metadata": {},
   "outputs": [],
   "source": [
    "dec <- scran::modelGeneVar(sfe_tissue, lowess = FALSE)\n",
    "hvgs <- scran::getTopHVGs(dec, n = 2000)"
   ]
  },
  {
   "cell_type": "code",
   "execution_count": null,
   "id": "1467d03b-84b6-4895-870a-b4ab4bbb6652",
   "metadata": {},
   "outputs": [],
   "source": [
    "sfe_tissue <- BiocSingular::runPCA(sfe_tissue, ncomponents = 30, subset_row = hvgs, scale = TRUE)"
   ]
  },
  {
   "cell_type": "code",
   "execution_count": null,
   "id": "cc01ff29-de4d-4da9-bd7d-04a3cd1324ad",
   "metadata": {},
   "outputs": [],
   "source": [
    "Voyager::ElbowPlot(sfe_tissue, ndims = 30) + custom_theme()"
   ]
  },
  {
   "cell_type": "code",
   "execution_count": null,
   "id": "410cc236-72c2-4bc7-bd01-960be2034ba7",
   "metadata": {},
   "outputs": [],
   "source": [
    "plots <- Voyager::plotDimLoadings(sfe_tissue, dims = 1:5, swap_rownames = \"symbol\", ncol = 3)\n",
    "plots <- wrap_plots(plots) & custom_theme()\n",
    "plots"
   ]
  },
  {
   "cell_type": "code",
   "execution_count": null,
   "id": "cd1104a6-b27a-43fe-924a-2e9cbadeb62a",
   "metadata": {},
   "outputs": [],
   "source": [
    "set.seed(29)\n",
    "colData(sfe_tissue)$cluster <- bluster::clusterRows(\n",
    "    reducedDim(sfe_tissue, \"PCA\")[,1:3], \n",
    "    BLUSPARAM = SNNGraphParam(cluster.fun = \"leiden\", \n",
    "    cluster.args = list(resolution_parameter = 0.5, objective_function = \"modularity\"))\n",
    ")"
   ]
  },
  {
   "cell_type": "code",
   "execution_count": null,
   "id": "ac5a6ae7-cd2c-4206-8cbb-4d29f70e0925",
   "metadata": {},
   "outputs": [],
   "source": [
    "scater::plotPCA(sfe_tissue, ncomponents = 5, colour_by = \"cluster\") + custom_theme()"
   ]
  },
  {
   "cell_type": "code",
   "execution_count": null,
   "id": "fb7fc713-07f6-48e4-bcea-415f849791e2",
   "metadata": {},
   "outputs": [],
   "source": [
    "Voyager::plotSpatialFeature(sfe_tissue, features = \"cluster\", colGeometryName = \"spotPoly\", image_id = \"lowres\") + custom_theme()"
   ]
  },
  {
   "cell_type": "code",
   "execution_count": null,
   "id": "14c268db-9d52-4810-acb7-6591cda7edc4",
   "metadata": {},
   "outputs": [],
   "source": [
    "plots <- Voyager::spatialReducedDim(sfe_tissue, \"PCA\", ncomponents = 5, \n",
    "                  colGeometryName = \"spotPoly\", divergent = TRUE, \n",
    "                  diverge_center = 0, ncol = 2, \n",
    "                  image_id = \"lowres\", maxcell = 5e4)\n",
    "plots <- wrap_plots(plots) & custom_theme()\n",
    "plots"
   ]
  },
  {
   "cell_type": "code",
   "execution_count": null,
   "id": "4e7f4a83-4119-47e6-811a-e4eacabbd75e",
   "metadata": {},
   "outputs": [],
   "source": [
    "set.seed(29)\n",
    "sfe_tissue <- scater::runUMAP(sfe_tissue, dimred = \"PCA\", n_dimred = 3)"
   ]
  },
  {
   "cell_type": "code",
   "execution_count": null,
   "id": "fc4207ea-467f-40d0-b784-866f34cb8ef3",
   "metadata": {},
   "outputs": [],
   "source": [
    "scater::plotUMAP(sfe_tissue, colour_by = \"cluster\") + custom_theme()"
   ]
  },
  {
   "cell_type": "code",
   "execution_count": null,
   "id": "66474e49-04b6-43cc-90c2-2d8ca9e645c4",
   "metadata": {},
   "outputs": [],
   "source": [
    "markers <- scran::findMarkers(sfe_tissue, groups = colData(sfe_tissue)$cluster,\n",
    "                       test.type = \"wilcox\", pval.type = \"all\", direction = \"up\")"
   ]
  },
  {
   "cell_type": "code",
   "execution_count": null,
   "id": "fbe87887-3897-47ed-80d4-6ab89f9db57d",
   "metadata": {},
   "outputs": [],
   "source": [
    "genes_use <- vapply(markers, function(x) rownames(x)[1], FUN.VALUE = character(1))\n",
    "plots <- scater::plotExpression(sfe_tissue, rowData(sfe_tissue)[genes_use, \"symbol\"], x = \"cluster\",\n",
    "               colour_by = \"cluster\", swap_rownames = \"symbol\")\n",
    "plots <- wrap_plots(plots) & custom_theme()\n",
    "plots"
   ]
  },
  {
   "cell_type": "code",
   "execution_count": null,
   "id": "f48c5a1e-0d10-4fa7-a7e0-df3ad170a755",
   "metadata": {},
   "outputs": [],
   "source": [
    "plots <- Voyager::plotSpatialFeature(sfe_tissue, genes_use, colGeometryName = \"spotPoly\", ncol = 2,\n",
    "                   swap_rownames = \"symbol\", image_id = \"lowres\", maxcell = 5e4) + custom_theme()\n",
    "plots <- wrap_plots(plots) & custom_theme()\n",
    "plots"
   ]
  },
  {
   "cell_type": "code",
   "execution_count": null,
   "id": "8664e0bb-da8c-4ca6-8634-8ea0aeee5c15",
   "metadata": {},
   "outputs": [],
   "source": [
    "sp <- SpatialFeatureExperiment::spotPoly(sfe_tissue)"
   ]
  },
  {
   "cell_type": "code",
   "execution_count": null,
   "id": "d58109b9-bf9c-4e64-a555-2c9ebedd8d65",
   "metadata": {},
   "outputs": [],
   "source": [
    "SpatialFeatureExperiment::dimGeometry(sfe_tissue, \"spotPoly\", MARGIN = 2) <- sp"
   ]
  },
  {
   "cell_type": "code",
   "execution_count": null,
   "id": "c564ca3e-5218-4c36-9b06-03b3bc77a580",
   "metadata": {},
   "outputs": [],
   "source": [
    "(tb <- SpatialFeatureExperiment::annotGeometry(sfe_tissue, \"tissueBoundary\"))"
   ]
  },
  {
   "cell_type": "code",
   "execution_count": null,
   "id": "59e186a0-7acf-48d3-bf09-66cbab1af0b8",
   "metadata": {},
   "outputs": [],
   "source": [
    "plot(sf::st_geometry(tb))\n",
    "plot(sp, col = \"gray\", add = TRUE)"
   ]
  },
  {
   "cell_type": "code",
   "execution_count": null,
   "id": "3ca4b375-3882-4bbd-bb67-7de3bc52d4c9",
   "metadata": {},
   "outputs": [],
   "source": [
    "Voyager::plotSpatialFeature(sfe_tissue, features = \"nCounts\", colGeometryName = \"spotPoly\", annotGeometryName = \"tissueBoundary\", \n",
    "                            aes_use = \"color\", linewidth = 0.5, fill = NA) + custom_theme()"
   ]
  },
  {
   "cell_type": "markdown",
   "id": "232352ce-c53a-4dee-8513-b328c51d36b7",
   "metadata": {},
   "source": [
    "# Spatial Statistics\n",
    "\n",
    "The intuition behind spatial statistics is that nearer things are more closely related than more distant things. For example, the weather in Brisbane and the Sunshine Coast are more similar than the weather in Melbourne. Spatial autocorrelation has been used for decades in [geographical information systems (GIS)](https://dces.wisc.edu/wp-content/uploads/sites/128/2013/08/W5_Getis2008.pdf) applied to areas such analysis of air pollution, water quality, or soil properties. A good example of using geographical, [spatial exploratory and confirmatory analysis](https://en.wikipedia.org/wiki/Exploratory_data_analysis) to improve cancer screening can be found in, \"[Spatial evaluation of prevalence, pattern and predictors of cervical cancer screening in India](https://www.sciencedirect.com/science/article/pii/S003335061930294X#sec2.2)\".\n",
    "\n",
    "Univariate, bivariate and multivariate spatial correlation measures the degree of spatial dependence or clustering for a single variable, two variables or all variables across different locations. It quantifies whether values of a variable at nearby locations are more similar or dissimilar than expected by chance.\n",
    "\n",
    "For example, Moran’s I is similar to the Pearson correlation between the value at each location and the average value at its neighbors. Like Pearson correlation, Moran’s I is generally bound between -1 and 1, where positive value indicates positive spatial autocorrelation and negative value indicates negative spatial autocorrelation.\n",
    "\n",
    "To determine if the spatial autocorrelation is statistically significant, the [moran.test](https://r-spatial.github.io/spdep/reference/moran.test.html) function in [spdep](https://github.com/r-spatial/spdep) is used. It provides a p-value, but the p-value may not be accurate if the data is not normally distributed. Gene expression data is generally not normally distributed and data normalization doesn’t always work well. Instead, permutation testing is used to generate the significance of Moran’s I and Geary’s C.\n",
    "\n",
    "Types of spatial correlation:\n",
    "* Univariate\n",
    "  * Global\n",
    "      * Moran's I\n",
    "      * Geary's C\n",
    "      * Carrelogram\n",
    "      * Varigram\n",
    "  * Local\n",
    "      * Moran Scatter Plot\n",
    "      * Local Moran's I\n",
    "      * Local spatial heteroscedasticity\n",
    "      * Getis-Ord Gi\n",
    "* Bivariate\n",
    "    *  Lee's L\n",
    "    *  Cross Variogram\n",
    "* Multivariate\n",
    "    * MULTISPATI PCA\n",
    "    * Multivariate local Geary's C"
   ]
  },
  {
   "cell_type": "markdown",
   "id": "4439be52-153e-41be-ac4b-b078a87431ed",
   "metadata": {},
   "source": [
    "A list of spatial statistic functions available for use:"
   ]
  },
  {
   "cell_type": "code",
   "execution_count": null,
   "id": "f92231d2-ec00-4d32-ade1-da6ed94431e2",
   "metadata": {},
   "outputs": [],
   "source": [
    "Voyager::listSFEMethods(variate = \"uni\", scope = \"global\")"
   ]
  },
  {
   "cell_type": "markdown",
   "id": "140ff34a-fe97-4a77-8568-a6008cbd0d45",
   "metadata": {},
   "source": [
    "The \"moran.test\" and \"geary.test\" refer to autocorrelation functions that provide a p-value. The test statistic, known as the standard deviate of Moran's I, is assumed to follow a standard normal distribution (z-distribution) when the null hypothesis is true. However, the p-value may not be accurate if the data is not normally distributed, which is often the case with gene expression data. \n",
    "\n",
    "The \"moran.mc\" and \"geary.mc\" perform permutation testing using a Monte Carlo simulation to calculate the p-value. Permutation testing is a robust approach for assessing the significance of spatial correlation, especially when the data is not normally distributed. It provides a reliable way to determine if the observed spatial patterns are likely to have arisen by chance or if they reflect meaningful spatial relationships.\n",
    "\n",
    "Testing is performed by randomly shuffling the values of the variable across the locations multiple times (e.g. 999 times) and recalculating Moran's I for each permutation. This creates a reference distribution of Moran's I values under the null hypothesis of no spatial correlation. The observed Moran's I value is then compared to this reference distribution. If the observed value falls in the extreme tails of the distribution (e.g., top 5% or bottom 5%), it suggests that the spatial correlation is statistically significant and unlikely to have occurred by chance."
   ]
  },
  {
   "cell_type": "markdown",
   "id": "6cd6136e-b715-4518-a1c8-5490ef6c3e64",
   "metadata": {},
   "source": [
    "## Generating a Spatial Neighbourhood Graph\n",
    "\n",
    "A spatial neighbourhood graph is required to be generated in order to use spatial correlation. For Visium, where the spots \n",
    "are in a hexagonal grid, the spatial neighborhood graph is straightforward (we're using [tri2.nb](https://r-spatial.github.io/spdep/reference/tri2nb.html)).\n",
    "\n",
    "We'll compare generating a graph for the entire sample (with spots removed), the tissue of interest and the tissue of interest with spots removed."
   ]
  },
  {
   "cell_type": "code",
   "execution_count": null,
   "id": "1eedb9db-e676-49f6-8192-1cc27eac6104",
   "metadata": {},
   "outputs": [],
   "source": [
    "(g_all <- SpatialFeatureExperiment::findSpatialNeighbors(processed_sfe, MARGIN = 2, method = \"tri2nb\"))"
   ]
  },
  {
   "cell_type": "code",
   "execution_count": null,
   "id": "ddb7959e-e3ba-4745-9505-6fc823e8510c",
   "metadata": {},
   "outputs": [],
   "source": [
    "(g_specific <- SpatialFeatureExperiment::findSpatialNeighbors(sfe_tissue, MARGIN = 2, method = \"tri2nb\"))"
   ]
  },
  {
   "cell_type": "code",
   "execution_count": null,
   "id": "e73974b6-c82b-49b5-8ca9-cdf6127bef1d",
   "metadata": {},
   "outputs": [],
   "source": [
    "spatialGraph(processed_sfe, \"graph1\", MARGIN = 2) <- g_all"
   ]
  },
  {
   "cell_type": "code",
   "execution_count": null,
   "id": "7ba935df-7eac-4974-bc22-23e8c90fe214",
   "metadata": {},
   "outputs": [],
   "source": [
    "spatialGraph(sfe_tissue, \"graph1\", MARGIN = 2) <- g_specific"
   ]
  },
  {
   "cell_type": "code",
   "execution_count": null,
   "id": "e0e5de28-3e66-4389-bbe7-de2877c20256",
   "metadata": {},
   "outputs": [],
   "source": [
    "colGraph(sfe_tissue, \"visium\") <- SpatialFeatureExperiment::findVisiumGraph(sfe_tissue, zero.policy = TRUE)"
   ]
  },
  {
   "cell_type": "markdown",
   "id": "75a705ce-00fb-413e-8562-0d59979c9077",
   "metadata": {},
   "source": [
    "## Visualising the Neighbourhood Graphs\n",
    "\n",
    "The following shows the new neighbourhood graph generated from the original Visium spots and the Visium spots with QC applied to remove\n",
    "some of the spots."
   ]
  },
  {
   "cell_type": "code",
   "execution_count": null,
   "id": "c5c1eb46-2390-4f49-918c-7de67162ccb0",
   "metadata": {},
   "outputs": [],
   "source": [
    "plot(colGraph(processed_sfe, \"graph1\"), coords = spatialCoords(processed_sfe))"
   ]
  },
  {
   "cell_type": "code",
   "execution_count": null,
   "id": "c4c011b2-7f20-44fd-a5b4-22588840e1dd",
   "metadata": {},
   "outputs": [],
   "source": [
    "plot(colGraph(sfe_tissue, \"graph1\"), coords = spatialCoords(sfe_tissue))"
   ]
  },
  {
   "cell_type": "code",
   "execution_count": null,
   "id": "a2053c73-9603-4a48-9ac0-4592a95dd0ef",
   "metadata": {},
   "outputs": [],
   "source": [
    "plot(colGraph(sfe_tissue, \"visium\"), coords = spatialCoords(sfe_tissue))"
   ]
  },
  {
   "cell_type": "markdown",
   "id": "c19bd946-c42d-4fed-9418-31c97bbe37f5",
   "metadata": {},
   "source": [
    "## Global Spatial Correlation\n",
    "\n",
    "Global spatial correlation looks at the entire dataset to assess whether it is clustered, dispersed, or randomly assigned."
   ]
  },
  {
   "cell_type": "markdown",
   "id": "0ef14c26-d783-422c-9bff-5a717e36ec83",
   "metadata": {},
   "source": [
    "### Using Moran's I\n",
    "\n",
    "A global Moran's I value will give an indication if values in the dataset cluster together (positive), dispersed (negative values) or if the value is close to zero indicate that they do not cluster together. As it is a global calculation, it does not indicate clusters or outliers, it is just the characteristic of the dataset.\n",
    "\n",
    "As an example, we'll calculate the top 2000 highly variable genes and see if they are spatially correlated."
   ]
  },
  {
   "cell_type": "code",
   "execution_count": null,
   "id": "19a19e01-907d-4eb4-8a93-56779e9b0e03",
   "metadata": {},
   "outputs": [],
   "source": [
    "dec <- scran::modelGeneVar(sfe_tissue)\n",
    "hvgs <- scran::getTopHVGs(dec, n = 2000)"
   ]
  },
  {
   "cell_type": "code",
   "execution_count": null,
   "id": "376975ff-5fce-4e39-9bcd-2b078867a965",
   "metadata": {},
   "outputs": [],
   "source": [
    "# sfe_tissue <- Voyager::calculateUnivariate(t(colData(sfe_tissue)[,c(\"nCounts\", \"nGenes\")]), type = \"moran\", listw = colGraph(sfe_tissue, \"graph1\"))\n",
    "sfe_tissue <- Voyager::colDataUnivariate(sfe_tissue, features = c(\"nCounts\", \"nGenes\"), colGraphName = \"graph1\", type = \"moran\")\n",
    "colFeatureData(sfe_tissue)[c(\"nCounts\", \"nGenes\"),]"
   ]
  },
  {
   "cell_type": "markdown",
   "id": "9b1231cf-91f0-423c-b4c2-10b3515ff1c5",
   "metadata": {},
   "source": [
    "What do these results mean? A positive \"moran\" value means that they are spatially correlated and a negative value indicates that they are not. The \"K\" value or [kurtosis](https://en.wikipedia.org/wiki/Kurtosis) is a measure of the \"tailedness\" of a distribution. Higer values indicates a distribution with a higher chance of producing outliers, conversely, lower values have a smaller chance of producing outliers and a value of 3 is the typical value for normally distributed data.\n",
    "\n",
    "In this case, both \"nCounts\" and \"nGenes\" have high positive Moran's I values (0.761749 and 0.793523, respectively), suggesting strong positive spatial autocorrelation. The kurtosis values for \"nCounts\" and \"nGenes\" are 1.84931 and 1.96607, respectively, which are less than 3, suggesting that both variables have a distribution with a smaller chance of producing outliers compared to a normal distribution.\n",
    "\n",
    "We can visualise it in a histogram as follows."
   ]
  },
  {
   "cell_type": "code",
   "execution_count": null,
   "id": "ab8493dd-d485-4edd-a58a-01e0682e4c73",
   "metadata": {},
   "outputs": [],
   "source": [
    "sfe_tissue <- Voyager::runMoransI(sfe_tissue, features = hvgs)\n",
    "Voyager::plotRowDataHistogram(sfe_tissue, \"moran_sample01\") + custom_theme()"
   ]
  },
  {
   "cell_type": "code",
   "execution_count": null,
   "id": "67fab72a-06cd-4712-bda0-ee4b30c2ed9f",
   "metadata": {},
   "outputs": [],
   "source": [
    "df <- rowData(sfe_tissue)[hvgs,]"
   ]
  },
  {
   "cell_type": "code",
   "execution_count": null,
   "id": "f795d965-2474-4441-8a9e-0817f3b143e1",
   "metadata": {},
   "outputs": [],
   "source": [
    "ord <- order(df$I_sample01, decreasing = TRUE)\n",
    "df[ord, c(\"symbol\", \"moran_sample01\")]"
   ]
  },
  {
   "cell_type": "code",
   "execution_count": null,
   "id": "029a79f2-9938-4e68-944c-94cddbb38f32",
   "metadata": {},
   "outputs": [],
   "source": [
    "df[1:6,1:3]"
   ]
  },
  {
   "cell_type": "code",
   "execution_count": null,
   "id": "a786008c-21b4-4432-a1ad-758cef55487d",
   "metadata": {},
   "outputs": [],
   "source": [
    "plots <- Voyager::plotSpatialFeature(sfe_tissue, rownames(df)[1:6], colGeometryName = \"spotPoly\", \n",
    "                                     image = \"lowres\", maxcell = 5e4, swap_rownames = \"symbol\", ncol = 2)\n",
    "plots <- wrap_plots(plots) & custom_theme()\n",
    "plots"
   ]
  },
  {
   "cell_type": "code",
   "execution_count": null,
   "id": "b8315950-0faf-4529-bea5-c705699ea526",
   "metadata": {},
   "outputs": [],
   "source": [
    "neg_moran <- rownames(sfe_tissue)[order(rowData(sfe_tissue)$moran_sample01, decreasing = FALSE)[1:6]]\n",
    "sfe_tissue <- runUnivariate(sfe_tissue, \"moran.mc\", neg_moran, colGraphName = \"graph1\", nsim = 200, alternative = \"less\")"
   ]
  },
  {
   "cell_type": "code",
   "execution_count": null,
   "id": "8783da27-5f3d-4013-8625-042cf90a6f24",
   "metadata": {},
   "outputs": [],
   "source": [
    "plots <- Voyager::plotSpatialFeature(sfe_tissue, neg_moran, swap_rownames = \"symbol\", image_id = \"lowres\", maxcell = 5e4, ncol = 2)\n",
    "plots <- wrap_plots(plots) & custom_theme()\n",
    "plots"
   ]
  },
  {
   "cell_type": "markdown",
   "id": "373f9326-b33e-4095-9f44-9046232b251b",
   "metadata": {},
   "source": [
    "## Local Spatial Correlation\n",
    "\n",
    "Local spatial correlation looks at the neighbours of values. Instead of generating a single statistic characterising the dataset, local methods generate a value for each location. You can reuse methods such a Moran's I and Geary's C to process data locally - these will show clusters of similar values (low or high) as well as outliers. Getis-Ord Gi* is another method that generates clusters of cold (low) and hot (high) values and can be easier to intrepet."
   ]
  },
  {
   "cell_type": "code",
   "execution_count": null,
   "id": "4997f5e6-6f0c-4f59-8983-77b7af21d385",
   "metadata": {},
   "outputs": [],
   "source": [
    "colGraph(sfe_tissue, \"visium_B\") <- SpatialFeatureExperiment::findVisiumGraph(sfe_tissue, style = \"B\", zero.policy = TRUE)"
   ]
  },
  {
   "cell_type": "code",
   "execution_count": null,
   "id": "f07949c8-3006-47e1-8dc1-6576316fec1f",
   "metadata": {},
   "outputs": [],
   "source": [
    "sfe_tissue <- Voyager::runUnivariate(sfe_tissue, type = \"localG_perm\", features = \"Ptgds\",\n",
    "                            colGraphName = \"visium_B\", swap_rownames = \"symbol\")"
   ]
  },
  {
   "cell_type": "code",
   "execution_count": null,
   "id": "0be29325-8b3f-4584-8532-6eed0a3db047",
   "metadata": {},
   "outputs": [],
   "source": [
    "Voyager::plotLocalResult(sfe_tissue, \"localG_perm\", features = \"Ptgds\", \n",
    "                colGeometryName = \"spotPoly\", divergent = TRUE,\n",
    "                diverge_center = 0, image_id = \"lowres\", swap_rownames = \"symbol\", \n",
    "                color = \"black\", linewidth = 0.1) + custom_theme()"
   ]
  },
  {
   "cell_type": "code",
   "execution_count": null,
   "id": "55f82cc3-3af7-4860-9d19-c2ff967ecd0b",
   "metadata": {},
   "outputs": [],
   "source": [
    "SpatialFeatureExperiment::localResultAttrs(sfe_tissue, \"localG_perm\", \"Ptgds\", swap_rownames = \"symbol\")"
   ]
  },
  {
   "cell_type": "code",
   "execution_count": null,
   "id": "e077aa0e-62ff-4089-be21-acc4a2b5bcf0",
   "metadata": {},
   "outputs": [],
   "source": [
    "Voyager::plotLocalResult(sfe_tissue, \"localG_perm\", features = \"Ptgds\", \n",
    "                attribute = \"-log10p_adj Sim\",\n",
    "                colGeometryName = \"spotPoly\", divergent = TRUE,\n",
    "                diverge_center = -log10(0.05), swap_rownames = \"symbol\",\n",
    "                image_id = \"lowres\") + custom_theme()"
   ]
  },
  {
   "cell_type": "markdown",
   "id": "a7af7546-1f71-4b96-a9ea-c8f61c246ac8",
   "metadata": {},
   "source": [
    "## MULTISPATI PCA (Multivariate Spatial Correlation)\n",
    "\n",
    "Due to the large number of genes quantified in single cell and spatial transcriptomics, dimension reduction is part of the standard workflow to analyze such data, to visualize, to help interpreting the data, to distill relevant information and reduce noise, to facilitate downstream analyses such as clustering and pseudotime, to project different samples into a shared latent space for data integration, and so on.\n",
    "\n",
    "Spatially informed dimension reduction is actually not new, and dates back to at least 1985, with Wartenberg’s crossover of Moran’s I and PCA (Wartenberg 1985), which was generalized and further developed as MULTISPATI PCA (Dray, Saı̈d, and Débias 2008).\n",
    "\n",
    "In short, while PCA tries to maximize the variance explained by each PC, MULTISPATI maximizes the product of Moran’s I and variance explained. Also, while all the eigenvalues from PCA are non-negative, because the covariance matrix is positive semidefinite, MULTISPATI can give negative eigenvalues, which represent negative spatial autocorrelation, which can be present and interesting but is not as common as positive spatial autocorrelation and is often masked by the latter (Griffith 2019)."
   ]
  },
  {
   "cell_type": "code",
   "execution_count": null,
   "id": "bd3e4ff8-304d-4caf-9189-71fc6db01dd0",
   "metadata": {},
   "outputs": [],
   "source": [
    "colGraph(sfe_tissue, \"knn5\") <- SpatialFeatureExperiment::findSpatialNeighbors(sfe_tissue, method = \"knearneigh\", dist_type = \"idw\", k = 5, style = \"W\")"
   ]
  },
  {
   "cell_type": "code",
   "execution_count": null,
   "id": "5b8a82b0-b4cc-47c5-a16c-87c9a38f1ff3",
   "metadata": {},
   "outputs": [],
   "source": [
    "sfe_tissue <- Voyager::runMultivariate(sfe_tissue, \"multispati\", colGraphName = \"knn5\", nfposi = 20, nfnega = 20)"
   ]
  },
  {
   "cell_type": "code",
   "execution_count": null,
   "id": "46741e61-769c-4a77-aa40-4a0496e1d1a5",
   "metadata": {},
   "outputs": [],
   "source": [
    "Voyager::ElbowPlot(sfe_tissue, nfnega = 20, reduction = \"multispati\") + custom_theme()"
   ]
  },
  {
   "cell_type": "code",
   "execution_count": null,
   "id": "4e3e3027-fa39-4ce8-97e9-8963e2bb2cfd",
   "metadata": {},
   "outputs": [],
   "source": [
    "plots <- Voyager::plotDimLoadings(sfe_tissue, dims = c(1:5), swap_rownames = \"symbol\", reduction = \"multispati\")\n",
    "plots <- wrap_plots(plots) & custom_theme()\n",
    "plots"
   ]
  },
  {
   "cell_type": "code",
   "execution_count": null,
   "id": "2e18d6d9-4197-48ec-aa7b-ee5322b8848c",
   "metadata": {},
   "outputs": [],
   "source": [
    "plots <- Voyager::spatialReducedDim(sfe_tissue, \"multispati\", ncomponents = 5, \n",
    "                  colGeometryName = \"spotPoly\", divergent = TRUE, \n",
    "                  diverge_center = 0, ncol = 2, \n",
    "                  image_id = \"lowres\", maxcell = 5e4)\n",
    "plots <- wrap_plots(plots) & custom_theme()\n",
    "plots"
   ]
  },
  {
   "cell_type": "markdown",
   "id": "e5abe370-d87a-49fd-96d9-015822aa689f",
   "metadata": {},
   "source": [
    "## Comparing Spatial and Non-Spatial PCA\n",
    "\n",
    "In the context of spatial transcriptomics, clusters are groups of spots that share similar characteristics within \n",
    "each group. \n",
    "\n",
    "Non-spatial clustering methods, such as principal component analysis (PCA), identify genes that are effective in \n",
    "distinguishing different cell types based solely on their expression patterns without considering the spatial \n",
    "arrangement of the cells. However, gene expression may exhibit \n",
    "strong spatial structure, meaning they are not randomly distributed across the tissue but rather form distinct \n",
    "spatial patterns.\n",
    "\n",
    "MULTISPATI's components identify genes that define spatial regions in addition to differentiating between cell types. \n",
    "These genes not only distinguish cell types but also capture the spatial organization of cells within the tissue. \n",
    "The genes associated with each MULTISPATI component can provide valuable insights into the spatial patterns \n",
    "and the underlying biological processes.\n",
    "\n",
    "Both analysis methods provide different perspective and uncovers different aspects of the data. Non-spatial \n",
    "clustering focuses on identifying cell types based on gene expression, while spatial clustering incorporates \n",
    "both gene expression and spatial information to identify spatially coherent regions and the genes that define \n",
    "them.\n",
    "\n",
    "We will now performing clustering on both the original PCA and the new MULTISPATI generate components."
   ]
  },
  {
   "cell_type": "code",
   "execution_count": null,
   "id": "6e60e918-d06d-433d-8b37-ce9ed20e11ec",
   "metadata": {},
   "outputs": [],
   "source": [
    "set.seed(29)\n",
    "sfe_tissue$clusts_nonspatial <- scran::clusterCells(sfe_tissue, use.dimred = \"PCA\",\n",
    "                                             BLUSPARAM = NNGraphParam(\n",
    "                                              cluster.fun = \"leiden\",\n",
    "                                              cluster.args = list(\n",
    "                                                  objective_function = \"modularity\",\n",
    "                                                  resolution_parameter = 1\n",
    "                                              )\n",
    "                                          ))"
   ]
  },
  {
   "cell_type": "code",
   "execution_count": null,
   "id": "32a5adbe-32b0-441e-8ca7-ecd02ef276f2",
   "metadata": {},
   "outputs": [],
   "source": [
    "set.seed(29)\n",
    "sfe_tissue$clusts_multispati <- bluster::clusterRows(SingleCellExperiment::reducedDim(sfe_tissue, \"multispati\")[,1:20], \n",
    "                                            BLUSPARAM = NNGraphParam(\n",
    "                                                cluster.fun = \"leiden\",\n",
    "                                                cluster.args = list(\n",
    "                                                    objective_function = \"modularity\",\n",
    "                                                    resolution_parameter = 1\n",
    "                                                )\n",
    "                                            )\n",
    "                                           )"
   ]
  },
  {
   "cell_type": "code",
   "execution_count": null,
   "id": "2ff8c75e-c4c3-4f44-b099-265d6098ae18",
   "metadata": {},
   "outputs": [],
   "source": [
    "Voyager::plotSpatialFeature(sfe_tissue, c(\"clusts_nonspatial\", \"clusts_multispati\"), colGeometryName = \"spotPoly\", \n",
    "                            scattermore = TRUE, pointsize = 7) & guides(colour = guide_legend(override.aes = list(size=2), ncol = 2))"
   ]
  }
 ],
 "metadata": {
  "kernelspec": {
   "display_name": "R",
   "language": "R",
   "name": "ir"
  },
  "language_info": {
   "codemirror_mode": "r",
   "file_extension": ".r",
   "mimetype": "text/x-r-source",
   "name": "R",
   "pygments_lexer": "r",
   "version": "4.3.3"
  }
 },
 "nbformat": 4,
 "nbformat_minor": 5
}
