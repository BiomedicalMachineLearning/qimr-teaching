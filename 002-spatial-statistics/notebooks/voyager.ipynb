{
 "cells": [
  {
   "cell_type": "markdown",
   "id": "d158477d-75e0-497a-aead-01eb69f2647f",
   "metadata": {},
   "source": [
    "# Spatial Statistics with Voyager\n",
    "\n",
    "Based on the following tutorials:\n",
    "* https://pachterlab.github.io/voyager/articles/visium_10x.html\n",
    "* https://pachterlab.github.io/voyager/articles/vig1_visium_basic.html\n",
    "* https://pachterlab.github.io/voyager/articles/vig2_visium.html\n",
    "* https://pachterlab.github.io/voyager/articles/visium_10x_spatial.html"
   ]
  },
  {
   "cell_type": "code",
   "execution_count": null,
   "id": "85728bb3-b77b-4708-ad66-99e84c0050fc",
   "metadata": {},
   "outputs": [],
   "source": [
    "library(dplyr)\n",
    "library(Voyager)\n",
    "library(SpatialExperiment)\n",
    "library(SpatialFeatureExperiment)\n",
    "library(SingleCellExperiment)\n",
    "library(ggplot2)\n",
    "library(scater)\n",
    "library(rlang)\n",
    "library(scran)\n",
    "library(scuttle)\n",
    "library(terra)\n",
    "library(sf)\n",
    "library(rmapshaper)\n",
    "library(scran)\n",
    "library(stringr)\n",
    "library(EBImage)\n",
    "library(patchwork)\n",
    "library(bluster)\n",
    "library(rjson)\n",
    "theme_set(theme_bw())"
   ]
  },
  {
   "cell_type": "code",
   "execution_count": null,
   "id": "6f9bcea4-3034-4afe-9ba8-8766ed00bb6b",
   "metadata": {},
   "outputs": [],
   "source": [
    "# Layout\n",
    "custom_theme <- function() {\n",
    "  theme_bw() +\n",
    "    theme(\n",
    "      legend.text = element_text(size = 14),\n",
    "      legend.title = element_text(size = 16, face = \"bold\"),\n",
    "      axis.text = element_text(size = 12),\n",
    "      axis.title = element_text(size = 14, face = \"bold\"),\n",
    "      legend.position = \"right\",\n",
    "      legend.box.just = \"right\"\n",
    "    )\n",
    "}\n",
    "options(repr.plot.width = 20, repr.plot.height = 16)"
   ]
  },
  {
   "cell_type": "code",
   "execution_count": null,
   "id": "f02e0f40-9dc8-487a-bc65-b9ed5492c3b0",
   "metadata": {},
   "outputs": [],
   "source": [
    "data_dir <- R.utils::getAbsolutePath('../../data')\n",
    "mouse_dir <- glue::glue(\"{data_dir}/Visium_Mouse_Olfactory_Bulb/outs\")"
   ]
  },
  {
   "cell_type": "markdown",
   "id": "6a0cea76-4bc2-4a2f-a0f5-fae500398d1d",
   "metadata": {},
   "source": [
    "## Visium Files"
   ]
  },
  {
   "cell_type": "markdown",
   "id": "3dea9d69-fe11-4f61-b01c-b34a9d997ddd",
   "metadata": {},
   "source": [
    "### Scale Factors\n",
    "\n",
    "The scalefactors_json.json file contains image metadata:\n",
    "* **tissue_hires_scalef** and **tissue_lowres_scalef** are the ratio of the size of the high resolution (but not full resolution) and low resolution H&E image to the full resolution image.\n",
    "* **fiducial_diameter_fullres** is the diameter of each fiducial spot used to align the spots to the H&E image in pixels in the full resolution image.\n",
    "* **spot_diameter_fullres** is the diameter of each Visium spot in the full resolution H&E image in pixels. "
   ]
  },
  {
   "cell_type": "code",
   "execution_count": null,
   "id": "0d53b1b3-724d-42bb-b1cb-7b8f16d14ffd",
   "metadata": {},
   "outputs": [],
   "source": [
    "fromJSON(file = glue::glue(\"{mouse_dir}/spatial/scalefactors_json.json\"))"
   ]
  },
  {
   "cell_type": "markdown",
   "id": "6b46a360-b7aa-4892-a7bb-8ee3eeb3a18f",
   "metadata": {},
   "source": [
    "### Tissue Metadata\n",
    "\n",
    "The tissue_positions_list.csv file contains information about each spot/barcode:\n",
    "* **in_tissue** indicates whether each spot is in tissue (in_tissue, 1 means yes and 0 means no) as automatically detected by \n",
    "Space Ranger or manually annotated in the Loupe browser.\n",
    "* **array_row** and **array_col** are the coordinates on the matrix of spots,\n",
    "* **pxl_row_in_fullres** and **pxl_col_in_fullres** are the coordinates of the spots in the full resolution \n",
    "image."
   ]
  },
  {
   "cell_type": "code",
   "execution_count": null,
   "id": "1be78611-04cc-4e8a-8397-a533dce348cd",
   "metadata": {},
   "outputs": [],
   "source": [
    "head(read.csv(glue::glue(\"{mouse_dir}/spatial/tissue_positions.csv\")))"
   ]
  },
  {
   "cell_type": "markdown",
   "id": "e4b16c43-e3fa-4273-ab26-5e4c77901b00",
   "metadata": {},
   "source": [
    "# Read Visium Data"
   ]
  },
  {
   "cell_type": "code",
   "execution_count": null,
   "id": "42fc0db0-6bea-4ac8-93b9-ad7f6ec1c0ac",
   "metadata": {},
   "outputs": [],
   "source": [
    "#Original way to load Visium Data\n",
    "#raw_sfe <- SpatialFeatureExperiment::read10xVisiumSFE(dirs = mouse_dir, samples = \".\", type = \"sparse\", data = \"raw\")\n",
    "#Voyager::plotImage(raw_sfe)\n",
    "#transposed_raw_sfe <- SpatialFeatureExperiment::transpose(raw_sfe)"
   ]
  },
  {
   "cell_type": "code",
   "execution_count": null,
   "id": "2b5fdb7b-8ae4-48c1-9b3e-50487fd9916b",
   "metadata": {},
   "outputs": [],
   "source": [
    "# Read pre-processed file\n",
    "raw_sfe <- readRDS(glue::glue(\"{data_dir}/Visium_Mouse_Olfactory_Bulb.rds\"))\n",
    "Voyager::plotImage(raw_sfe)\n",
    "transposed_raw_sfe <- raw_sfe"
   ]
  },
  {
   "cell_type": "markdown",
   "id": "fcfa2b0c-ec69-4a45-ba21-0d6bac0f6d0b",
   "metadata": {},
   "source": [
    "# Perform QC"
   ]
  },
  {
   "cell_type": "code",
   "execution_count": null,
   "id": "a75bdfab-e830-454d-b945-9cfe9c72f7e5",
   "metadata": {},
   "outputs": [],
   "source": [
    "is_mt <- str_detect(rowData(transposed_raw_sfe)$symbol, \"^mt-\")\n",
    "sum(is_mt)"
   ]
  },
  {
   "cell_type": "code",
   "execution_count": null,
   "id": "c664a060-6f2c-49cd-95ab-b0da217546ef",
   "metadata": {},
   "outputs": [],
   "source": [
    "qc_sfe <- scuttle::addPerCellQCMetrics(transposed_raw_sfe, subsets = list(mito = is_mt))"
   ]
  },
  {
   "cell_type": "code",
   "execution_count": null,
   "id": "578e6231-20e4-4fb3-9302-6970c64f734e",
   "metadata": {},
   "outputs": [],
   "source": [
    "(scater::plotColData(qc_sfe, \"sum\", x = \"in_tissue\", color_by = \"in_tissue\") + custom_theme()) +\n",
    "(scater::plotColData(qc_sfe, \"detected\", x = \"in_tissue\", color_by = \"in_tissue\") + custom_theme()) +\n",
    "(scater::plotColData(qc_sfe, \"subsets_mito_percent\", x = \"in_tissue\", color_by = \"in_tissue\") + custom_theme()) +\n",
    "(patchwork::plot_layout(ncol=3, guides = \"collect\"))"
   ]
  },
  {
   "cell_type": "code",
   "execution_count": null,
   "id": "6b280e37-24b2-476c-90a6-925a63b0ef07",
   "metadata": {},
   "outputs": [],
   "source": [
    "scater::plotColData(qc_sfe, x = \"sum\", y = \"subsets_mito_percent\", bins = 100) + custom_theme()"
   ]
  },
  {
   "cell_type": "code",
   "execution_count": null,
   "id": "994b98a7-4b2a-49a9-9246-f38bcc719d43",
   "metadata": {},
   "outputs": [],
   "source": [
    "# Normally MITO % is set to 20 - see what effect this has compared to 30.\n",
    "processed_sfe <- qc_sfe[, qc_sfe$subsets_mito_percent < 20]\n",
    "processed_sfe <- processed_sfe[rowSums(counts(processed_sfe)) > 0,]"
   ]
  },
  {
   "cell_type": "code",
   "execution_count": null,
   "id": "aa308ef0-0309-4fcc-86fa-2f210d8ba4fb",
   "metadata": {},
   "outputs": [],
   "source": [
    "(plotColData(processed_sfe, \"sum\", x = \"in_tissue\", color_by = \"in_tissue\") + custom_theme()) +\n",
    "(plotColData(processed_sfe, \"detected\", x = \"in_tissue\", color_by = \"in_tissue\") + custom_theme()) +\n",
    "(plotColData(processed_sfe, \"subsets_mito_percent\", x = \"in_tissue\", color_by = \"in_tissue\") + custom_theme()) +\n",
    "(plot_layout(ncol=3, guides = \"collect\"))"
   ]
  },
  {
   "cell_type": "code",
   "execution_count": null,
   "id": "9772cc6a-4a96-4e5e-9a22-c8b86f1fe7c9",
   "metadata": {},
   "outputs": [],
   "source": [
    "plotColData(processed_sfe, x = \"sum\", y = \"subsets_mito_percent\", bins = 100) + custom_theme()"
   ]
  },
  {
   "cell_type": "markdown",
   "id": "ee83a396-ac97-45e9-a175-1f438df0fae0",
   "metadata": {},
   "source": [
    "# Before and after QC by Percentage"
   ]
  },
  {
   "cell_type": "code",
   "execution_count": null,
   "id": "1d3343c8-4495-4754-963f-eee813cd50a0",
   "metadata": {},
   "outputs": [],
   "source": [
    "(Voyager::plotSpatialFeature(qc_sfe, c(\"sum\"), image_id = \"lowres\", maxcell = 5e4, ncol = 2) + custom_theme() +\n",
    "Voyager::plotSpatialFeature(qc_sfe, c(\"detected\"), image_id = \"lowres\", maxcell = 5e4, ncol = 2) + custom_theme() +\n",
    "Voyager::plotSpatialFeature(qc_sfe, c(\"subsets_mito_percent\"), image_id = \"lowres\", maxcell = 5e4, ncol = 2) + custom_theme()) +\n",
    "(plot_layout(ncol = 2, guides = \"collect\"))"
   ]
  },
  {
   "cell_type": "code",
   "execution_count": null,
   "id": "eb30b65c-5eaf-400d-bead-6029c04cc2e0",
   "metadata": {},
   "outputs": [],
   "source": [
    "colData(processed_sfe)$nCounts <- colSums(counts(processed_sfe))"
   ]
  },
  {
   "cell_type": "code",
   "execution_count": null,
   "id": "9b90e165-dc19-47ba-94d4-709e91135731",
   "metadata": {},
   "outputs": [],
   "source": [
    "(Voyager::plotSpatialFeature(processed_sfe, c(\"sum\"), image_id = \"lowres\", maxcell = 5e4, ncol = 2) + custom_theme() +\n",
    "Voyager::plotSpatialFeature(processed_sfe, c(\"detected\"), image_id = \"lowres\", maxcell = 5e4, ncol = 2) + custom_theme() +\n",
    "Voyager::plotSpatialFeature(processed_sfe, c(\"subsets_mito_percent\"), image_id = \"lowres\", maxcell = 5e4, ncol = 2) + custom_theme()) +\n",
    "(plot_layout(ncol = 2, guides = \"collect\"))"
   ]
  },
  {
   "cell_type": "markdown",
   "id": "75ab86a8-83e9-44a7-aa49-e3c2f928a40e",
   "metadata": {},
   "source": [
    "# Plotting Metrics in Space\n",
    "\n",
    "## Counts Per Spot in and out of Tissue\n",
    "\n",
    "Plot the total unique molecular identifier (UMI) counts per spot."
   ]
  },
  {
   "cell_type": "code",
   "execution_count": null,
   "id": "34b2d002-c31c-40f0-9fc1-4e79858a075b",
   "metadata": {},
   "outputs": [],
   "source": [
    "violin <- plotColData(processed_sfe, \"nCounts\", x = \"in_tissue\", colour_by = \"in_tissue\") +\n",
    "    theme(legend.position = \"top\") + custom_theme()\n",
    "spatial <- plotSpatialFeature(processed_sfe, \"nCounts\", colGeometryName = \"spotPoly\",\n",
    "                              annotGeometryName = \"tissueBoundary\", \n",
    "                              image = \"lowres\", maxcell = 5e4,\n",
    "                              annot_fixed = list(fill = NA, color = \"black\")) + custom_theme()\n",
    "violin + spatial"
   ]
  },
  {
   "cell_type": "code",
   "execution_count": null,
   "id": "dfcc4f65-26ad-4336-aa8a-b1904c9f073c",
   "metadata": {},
   "outputs": [],
   "source": [
    "colData(processed_sfe)$nGenes <- colSums(counts(processed_sfe) > 0)"
   ]
  },
  {
   "cell_type": "code",
   "execution_count": null,
   "id": "bdc88e01-6126-4671-b6a1-154f7f4a3511",
   "metadata": {},
   "outputs": [],
   "source": [
    "violin <- scater::plotColData(processed_sfe, \"nGenes\", x = \"in_tissue\", colour_by = \"in_tissue\") +\n",
    "    theme(legend.position = \"top\") + custom_theme()\n",
    "spatial <- Voyager::plotSpatialFeature(processed_sfe, \"nGenes\", colGeometryName = \"spotPoly\",\n",
    "                              annotGeometryName = \"tissueBoundary\",\n",
    "                              image = \"lowres\", maxcell = 5e4,\n",
    "                              annot_fixed = list(fill = NA, color = \"black\")) + custom_theme()\n",
    "violin + spatial"
   ]
  },
  {
   "cell_type": "code",
   "execution_count": null,
   "id": "c9daa1c5-da65-4fd9-a39c-02920ecd34c5",
   "metadata": {},
   "outputs": [],
   "source": [
    "scater::plotColData(processed_sfe, x = \"nCounts\", y = \"nGenes\", colour_by = \"in_tissue\") + custom_theme()"
   ]
  },
  {
   "cell_type": "code",
   "execution_count": null,
   "id": "b5ecb952-ff0d-4d8d-9e96-b572c473d4cb",
   "metadata": {},
   "outputs": [],
   "source": [
    "mito_ind <- str_detect(rowData(processed_sfe)$symbol, \"^mt-\")\n",
    "colData(processed_sfe)$prop_mito <- colSums(counts(processed_sfe)[mito_ind,]) / colData(processed_sfe)$nCounts"
   ]
  },
  {
   "cell_type": "code",
   "execution_count": null,
   "id": "88e8e6df-8872-4137-9a84-56f5d4632c16",
   "metadata": {},
   "outputs": [],
   "source": [
    "violin <- scater::plotColData(processed_sfe, \"prop_mito\", x = \"in_tissue\", colour_by = \"in_tissue\") +\n",
    "    theme(legend.position = \"top\") + custom_theme()\n",
    "spatial <- Voyager::plotSpatialFeature(processed_sfe, \"prop_mito\", colGeometryName = \"spotPoly\",\n",
    "                              annotGeometryName = \"tissueBoundary\",\n",
    "                              image = \"lowres\", maxcell = 5e4,\n",
    "                              annot_fixed = list(fill = NA, color = \"black\")) + custom_theme()\n",
    "violin + spatial"
   ]
  },
  {
   "cell_type": "markdown",
   "id": "81af3782-aadc-46e8-b837-5a4a46c0c762",
   "metadata": {},
   "source": [
    "# Only use in_tissue spots"
   ]
  },
  {
   "cell_type": "code",
   "execution_count": null,
   "id": "0baad0b9-b753-4944-a042-bd2489167255",
   "metadata": {},
   "outputs": [],
   "source": [
    "sfe_tissue <- processed_sfe[, colData(processed_sfe)$in_tissue]\n",
    "sfe_tissue <- sfe_tissue[rowSums(counts(sfe_tissue)) > 0,]"
   ]
  },
  {
   "cell_type": "code",
   "execution_count": null,
   "id": "eb5b888f-40df-4a03-b87b-40c721581eab",
   "metadata": {},
   "outputs": [],
   "source": [
    "rowData(sfe_tissue)$means <- rowMeans(counts(sfe_tissue))\n",
    "rowData(sfe_tissue)$vars <- rowVars(counts(sfe_tissue))\n",
    "# Coefficient of variance\n",
    "rowData(sfe_tissue)$cv2 <- rowData(sfe_tissue)$vars/rowData(sfe_tissue)$means^2"
   ]
  },
  {
   "cell_type": "code",
   "execution_count": null,
   "id": "fd05c9df-93d5-4e4a-a340-5fe676f1a69c",
   "metadata": {},
   "outputs": [],
   "source": [
    "scater::plotRowData(sfe_tissue, x = \"means\", y = \"vars\", bins = 50) +\n",
    "    ggplot2::geom_abline(slope = 1, intercept = 0, color = \"red\") +\n",
    "    ggplot2::scale_x_log10() + ggplot2::scale_y_log10() +\n",
    "    ggplot2::scale_fill_distiller(palette = \"Blues\", direction = 1) +\n",
    "    ggplot2::annotation_logticks() +\n",
    "    ggplot2::coord_equal() + custom_theme()"
   ]
  },
  {
   "cell_type": "code",
   "execution_count": null,
   "id": "51605dca-2d76-4a47-a539-a031d5d4a201",
   "metadata": {},
   "outputs": [],
   "source": [
    "sfe_tissue <- scuttle::logNormCounts(sfe_tissue)"
   ]
  },
  {
   "cell_type": "code",
   "execution_count": null,
   "id": "9fbd5981-9098-4a10-bac3-d23b1ac12373",
   "metadata": {},
   "outputs": [],
   "source": [
    "dec <- scran::modelGeneVar(sfe_tissue, lowess = FALSE)\n",
    "hvgs <- scran::getTopHVGs(dec, n = 2000)"
   ]
  },
  {
   "cell_type": "code",
   "execution_count": null,
   "id": "1467d03b-84b6-4895-870a-b4ab4bbb6652",
   "metadata": {},
   "outputs": [],
   "source": [
    "sfe_tissue <- BiocSingular::runPCA(sfe_tissue, ncomponents = 30, subset_row = hvgs, scale = TRUE)"
   ]
  },
  {
   "cell_type": "code",
   "execution_count": null,
   "id": "cc01ff29-de4d-4da9-bd7d-04a3cd1324ad",
   "metadata": {},
   "outputs": [],
   "source": [
    "Voyager::ElbowPlot(sfe_tissue, ndims = 30) + custom_theme()"
   ]
  },
  {
   "cell_type": "code",
   "execution_count": null,
   "id": "410cc236-72c2-4bc7-bd01-960be2034ba7",
   "metadata": {},
   "outputs": [],
   "source": [
    "Voyager::plotDimLoadings(sfe_tissue, dims = 1:5, swap_rownames = \"symbol\", ncol = 3) + custom_theme()"
   ]
  },
  {
   "cell_type": "code",
   "execution_count": null,
   "id": "cd1104a6-b27a-43fe-924a-2e9cbadeb62a",
   "metadata": {},
   "outputs": [],
   "source": [
    "set.seed(29)\n",
    "colData(sfe_tissue)$cluster <- bluster::clusterRows(\n",
    "    reducedDim(sfe_tissue, \"PCA\")[,1:3], \n",
    "    BLUSPARAM = SNNGraphParam(cluster.fun = \"leiden\", \n",
    "    cluster.args = list(resolution_parameter = 0.5, objective_function = \"modularity\"))\n",
    ")"
   ]
  },
  {
   "cell_type": "code",
   "execution_count": null,
   "id": "ac5a6ae7-cd2c-4206-8cbb-4d29f70e0925",
   "metadata": {},
   "outputs": [],
   "source": [
    "scater::plotPCA(sfe_tissue, ncomponents = 5, colour_by = \"cluster\") + custom_theme()"
   ]
  },
  {
   "cell_type": "code",
   "execution_count": null,
   "id": "fb7fc713-07f6-48e4-bcea-415f849791e2",
   "metadata": {},
   "outputs": [],
   "source": [
    "Voyager::plotSpatialFeature(sfe_tissue, features = \"cluster\", colGeometryName = \"spotPoly\", image_id = \"lowres\") + custom_theme()"
   ]
  },
  {
   "cell_type": "code",
   "execution_count": null,
   "id": "14c268db-9d52-4810-acb7-6591cda7edc4",
   "metadata": {},
   "outputs": [],
   "source": [
    "Voyager::spatialReducedDim(sfe_tissue, \"PCA\", ncomponents = 5, \n",
    "                  colGeometryName = \"spotPoly\", divergent = TRUE, \n",
    "                  diverge_center = 0, ncol = 2, \n",
    "                  image_id = \"lowres\", maxcell = 5e4) + custom_theme()"
   ]
  },
  {
   "cell_type": "code",
   "execution_count": null,
   "id": "4e7f4a83-4119-47e6-811a-e4eacabbd75e",
   "metadata": {},
   "outputs": [],
   "source": [
    "set.seed(29)\n",
    "sfe_tissue <- runUMAP(sfe_tissue, dimred = \"PCA\", n_dimred = 3)"
   ]
  },
  {
   "cell_type": "code",
   "execution_count": null,
   "id": "fc4207ea-467f-40d0-b784-866f34cb8ef3",
   "metadata": {},
   "outputs": [],
   "source": [
    "plotUMAP(sfe_tissue, colour_by = \"cluster\") + custom_theme()"
   ]
  },
  {
   "cell_type": "code",
   "execution_count": null,
   "id": "66474e49-04b6-43cc-90c2-2d8ca9e645c4",
   "metadata": {},
   "outputs": [],
   "source": [
    "markers <- scran::findMarkers(sfe_tissue, groups = colData(sfe_tissue)$cluster,\n",
    "                       test.type = \"wilcox\", pval.type = \"all\", direction = \"up\")"
   ]
  },
  {
   "cell_type": "code",
   "execution_count": null,
   "id": "fbe87887-3897-47ed-80d4-6ab89f9db57d",
   "metadata": {},
   "outputs": [],
   "source": [
    "genes_use <- vapply(markers, function(x) rownames(x)[1], FUN.VALUE = character(1))\n",
    "scater::plotExpression(sfe_tissue, rowData(sfe_tissue)[genes_use, \"symbol\"], x = \"cluster\",\n",
    "               colour_by = \"cluster\", swap_rownames = \"symbol\") + custom_theme()"
   ]
  },
  {
   "cell_type": "code",
   "execution_count": null,
   "id": "f48c5a1e-0d10-4fa7-a7e0-df3ad170a755",
   "metadata": {},
   "outputs": [],
   "source": [
    "Voyager::plotSpatialFeature(sfe_tissue, genes_use, colGeometryName = \"spotPoly\", ncol = 2,\n",
    "                   swap_rownames = \"symbol\", image_id = \"lowres\", maxcell = 5e4) + custom_theme()"
   ]
  },
  {
   "cell_type": "code",
   "execution_count": null,
   "id": "8664e0bb-da8c-4ca6-8634-8ea0aeee5c15",
   "metadata": {},
   "outputs": [],
   "source": [
    "sp <- spotPoly(sfe_tissue)"
   ]
  },
  {
   "cell_type": "code",
   "execution_count": null,
   "id": "d58109b9-bf9c-4e64-a555-2c9ebedd8d65",
   "metadata": {},
   "outputs": [],
   "source": [
    "dimGeometry(sfe_tissue, \"spotPoly\", MARGIN = 2) <- sp"
   ]
  },
  {
   "cell_type": "code",
   "execution_count": null,
   "id": "c564ca3e-5218-4c36-9b06-03b3bc77a580",
   "metadata": {},
   "outputs": [],
   "source": [
    "(tb <- annotGeometry(sfe_tissue, \"tissueBoundary\"))"
   ]
  },
  {
   "cell_type": "code",
   "execution_count": null,
   "id": "59e186a0-7acf-48d3-bf09-66cbab1af0b8",
   "metadata": {},
   "outputs": [],
   "source": [
    "plot(st_geometry(tb))\n",
    "plot(sp, col = \"gray\", add = TRUE)"
   ]
  },
  {
   "cell_type": "code",
   "execution_count": null,
   "id": "3ca4b375-3882-4bbd-bb67-7de3bc52d4c9",
   "metadata": {},
   "outputs": [],
   "source": [
    "plotSpatialFeature(sfe_tissue, features = \"nCounts\", \n",
    "                   colGeometryName = \"spotPoly\",\n",
    "                   annotGeometryName = \"tissueBoundary\", \n",
    "                   aes_use = \"color\", linewidth = 0.5, fill = NA) + custom_theme()"
   ]
  },
  {
   "cell_type": "markdown",
   "id": "232352ce-c53a-4dee-8513-b328c51d36b7",
   "metadata": {},
   "source": [
    "# Spatial Statistics\n",
    "\n",
    "The intuition behind spatial statistics is that near things are more closely related than distant things, for example, the weather in Brisbane and the Sunshine Coast versus the weather in Melbourne.\n",
    "\n",
    "Univariate, bivariate and multivariate spatial correlation measures the degree of spatial dependence or clustering for a single variable, two variables or all variables across different locations. It quantifies whether values of a variable at nearby locations are more similar or dissimilar than expected by chance.\n",
    "\n",
    "For example, Moran’s I is similar to the Pearson correlation between the value at each location and the average value at its neighbors (but not identical. Just like Pearson correlation, Moran’s I is generally bound between -1 and 1, where positive value indicates positive spatial autocorrelation and negative value indicates negative spatial autocorrelation.\n",
    "\n",
    "To determine if the spatial autocorrelation is statistically significant, the moran.test() function in spdep can be used. It provides a p-value, but the p-value may not be accurate if the data is not normally distributed. As gene expression data is generally not normally distributed and data normalization doesn’t always work well, we use permutation testing to test the significance of Moran’s I and Geary’s C, wrapping moran.mc() in spdep. The “mc” stands for Monte Carlo. The nsim argument specifies the number of simulations.\n",
    "\n",
    "Types of spatial correlation:\n",
    "* Univariate\n",
    "  * Global\n",
    "      * Moran's I\n",
    "      * Geary's C\n",
    "      * Carrelogram\n",
    "      * Varigram\n",
    "  * Local\n",
    "      * Moran Scatter Plot\n",
    "      * Local Moran's I\n",
    "      * Local spatial heteroscedasticity\n",
    "      * Getis-Ord Gi\n",
    "* Bivariate\n",
    "    *  Lee's L\n",
    "    *  Cross Variogram\n",
    "* Multivariate\n",
    "    * MULTISPATI PCA\n",
    "    * Multivariate local Geary's C"
   ]
  },
  {
   "cell_type": "code",
   "execution_count": null,
   "id": "f92231d2-ec00-4d32-ade1-da6ed94431e2",
   "metadata": {},
   "outputs": [],
   "source": [
    "Voyager::listSFEMethods(variate = \"uni\", scope = \"global\")"
   ]
  },
  {
   "cell_type": "markdown",
   "id": "140ff34a-fe97-4a77-8568-a6008cbd0d45",
   "metadata": {},
   "source": [
    "The \"moran.test\" and \"geary.test\" refer to autocorrelation functions that provide a p-value. However, the p-value may not be accurate if the data is not normally distributed, which is often the case with gene expression data. \n",
    "\n",
    "The \"moran.mc\" and \"geary.mc\" perform permutation testing using a Monte Carlo simulation to calculate the p-value. Permutation testing is a robust approach for assessing the significance of spatial correlation, especially when the data is not normally distributed. It provides a reliable way to determine if the observed spatial patterns are likely to have arisen by chance or if they reflect meaningful spatial relationships.\n",
    "\n",
    "By randomly shuffling the values of the variable across the locations multiple times (e.g., 999 times) and recalculating Moran's I for each permutation. This creates a reference distribution of Moran's I values under the null hypothesis of no spatial correlation.\n",
    "The observed Moran's I value is then compared to this reference distribution. If the observed value falls in the extreme tails of the distribution (e.g., top 5% or bottom 5%), it suggests that the spatial correlation is statistically significant and unlikely to have occurred by chance.\n",
    "\n",
    "If the p-value is less than the chosen significance level (e.g., 0.05), it suggests that the observed spatial correlation is statistically significant. If the p-value is greater than the significance level, the spatial correlation is not considered statistically significant."
   ]
  },
  {
   "cell_type": "code",
   "execution_count": null,
   "id": "ddb7959e-e3ba-4745-9505-6fc823e8510c",
   "metadata": {},
   "outputs": [],
   "source": [
    "(g <- findSpatialNeighbors(sfe_tissue, MARGIN = 2, method = \"tri2nb\"))"
   ]
  },
  {
   "cell_type": "code",
   "execution_count": null,
   "id": "7ba935df-7eac-4974-bc22-23e8c90fe214",
   "metadata": {},
   "outputs": [],
   "source": [
    "spatialGraph(sfe_tissue, \"graph1\", MARGIN = 2) <- g"
   ]
  },
  {
   "cell_type": "code",
   "execution_count": null,
   "id": "e0e5de28-3e66-4389-bbe7-de2877c20256",
   "metadata": {},
   "outputs": [],
   "source": [
    "colGraph(sfe_tissue, \"visium\") <- findVisiumGraph(sfe_tissue, zero.policy = TRUE)"
   ]
  },
  {
   "cell_type": "code",
   "execution_count": null,
   "id": "c4c011b2-7f20-44fd-a5b4-22588840e1dd",
   "metadata": {},
   "outputs": [],
   "source": [
    "plot(colGraph(sfe_tissue, \"graph1\"), coords = spatialCoords(sfe_tissue))"
   ]
  },
  {
   "cell_type": "code",
   "execution_count": null,
   "id": "a2053c73-9603-4a48-9ac0-4592a95dd0ef",
   "metadata": {},
   "outputs": [],
   "source": [
    "plot(colGraph(sfe_tissue, \"visium\"), coords = spatialCoords(sfe_tissue))"
   ]
  },
  {
   "cell_type": "code",
   "execution_count": null,
   "id": "b7a1fe9a-9d42-4fad-96aa-8fdc9a69cff5",
   "metadata": {},
   "outputs": [],
   "source": [
    "Voyager::calculateMoransI(t(colData(sfe_tissue)[,c(\"nCounts\", \"nGenes\")]), listw = colGraph(sfe_tissue, \"graph1\"))"
   ]
  },
  {
   "cell_type": "code",
   "execution_count": null,
   "id": "06f71c98-dbbf-49af-a5e1-7017b202533f",
   "metadata": {},
   "outputs": [],
   "source": [
    "sfe_tissue <- Voyager::runMoransI(sfe_tissue, features = hvgs, colGraphName = \"graph1\")"
   ]
  },
  {
   "cell_type": "code",
   "execution_count": null,
   "id": "67fab72a-06cd-4712-bda0-ee4b30c2ed9f",
   "metadata": {},
   "outputs": [],
   "source": [
    "df <- rowData(sfe_tissue)[hvgs,]"
   ]
  },
  {
   "cell_type": "code",
   "execution_count": null,
   "id": "f795d965-2474-4441-8a9e-0817f3b143e1",
   "metadata": {},
   "outputs": [],
   "source": [
    "ord <- order(df$I_sample01, decreasing = TRUE)\n",
    "df[ord, c(\"symbol\", \"I_sample01\")]"
   ]
  },
  {
   "cell_type": "code",
   "execution_count": null,
   "id": "029a79f2-9938-4e68-944c-94cddbb38f32",
   "metadata": {},
   "outputs": [],
   "source": [
    "df[1:6,1:3]"
   ]
  },
  {
   "cell_type": "code",
   "execution_count": null,
   "id": "a786008c-21b4-4432-a1ad-758cef55487d",
   "metadata": {},
   "outputs": [],
   "source": [
    "(Voyager::plotSpatialFeature(sfe_tissue, rownames(df)[1:6], colGeometryName = \"spotPoly\", image = \"lowres\", maxcell = 5e4, \n",
    "                             swap_rownames = \"symbol\", ncol = 2)) + custom_theme()"
   ]
  }
 ],
 "metadata": {
  "kernelspec": {
   "display_name": "R",
   "language": "R",
   "name": "ir"
  },
  "language_info": {
   "codemirror_mode": "r",
   "file_extension": ".r",
   "mimetype": "text/x-r-source",
   "name": "R",
   "pygments_lexer": "r",
   "version": "4.3.3"
  }
 },
 "nbformat": 4,
 "nbformat_minor": 5
}
